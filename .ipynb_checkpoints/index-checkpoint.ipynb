{
 "cells": [
  {
   "cell_type": "markdown",
   "id": "79cfde6d",
   "metadata": {},
   "source": [
    "# Data analysis in Base Python"
   ]
  },
  {
   "cell_type": "markdown",
   "id": "cec2c330",
   "metadata": {},
   "source": [
    "## \"In Memory\" vs. \"On Disk\"\n",
    "\n",
    "### Data in Memory\n",
    "We have mainly emphasized working with Python variables in memory. When something is in memory, that means that it can be easily modified and that it no longer exists once the software using it (in this case, a Python kernel) stops running."
   ]
  },
  {
   "cell_type": "code",
   "execution_count": 16,
   "id": "891d0d77",
   "metadata": {},
   "outputs": [
    {
     "data": {
      "text/plain": [
       "[4, 5, 6]"
      ]
     },
     "execution_count": 16,
     "metadata": {},
     "output_type": "execute_result"
    }
   ],
   "source": [
    "x = [4,5,6]\n",
    "x"
   ]
  },
  {
   "cell_type": "markdown",
   "id": "8a1958dc",
   "metadata": {},
   "source": [
    "check memory location"
   ]
  },
  {
   "cell_type": "code",
   "execution_count": 17,
   "id": "b4b43a54",
   "metadata": {},
   "outputs": [
    {
     "data": {
      "text/plain": [
       "'0x7ccdf1fa9180'"
      ]
     },
     "execution_count": 17,
     "metadata": {},
     "output_type": "execute_result"
    }
   ],
   "source": [
    "# check memory location\n",
    "hex(id(x))"
   ]
  },
  {
   "cell_type": "markdown",
   "id": "956e4f5c",
   "metadata": {},
   "source": [
    "change value"
   ]
  },
  {
   "cell_type": "code",
   "execution_count": 18,
   "id": "e438e2a3",
   "metadata": {},
   "outputs": [
    {
     "data": {
      "text/plain": [
       "'some new value'"
      ]
     },
     "execution_count": 18,
     "metadata": {},
     "output_type": "execute_result"
    }
   ],
   "source": [
    "# change value of x\n",
    "x = \"some new value\"\n",
    "x"
   ]
  },
  {
   "cell_type": "code",
   "execution_count": 19,
   "id": "e2ab5363",
   "metadata": {},
   "outputs": [
    {
     "data": {
      "text/plain": [
       "'0x7ccdf1fa88b0'"
      ]
     },
     "execution_count": 19,
     "metadata": {},
     "output_type": "execute_result"
    }
   ],
   "source": [
    "# check memory location\n",
    "hex(id(x))"
   ]
  },
  {
   "cell_type": "markdown",
   "id": "f7657ff9",
   "metadata": {},
   "source": [
    "variables in memory are flexible and convenient, but they are inherently temporary and short-term"
   ]
  },
  {
   "cell_type": "markdown",
   "id": "21856a51",
   "metadata": {},
   "source": [
    "# Files on Disk"
   ]
  },
  {
   "cell_type": "code",
   "execution_count": 20,
   "id": "0b05f006",
   "metadata": {},
   "outputs": [
    {
     "name": "stdout",
     "output_type": "stream",
     "text": [
      "cities.xls\t\t    kernel_menu.png  venv\n",
      "colors_and_numbers.parquet  leia.json\t     writen.txt\n",
      "dog.jpg\t\t\t    leia.xml\t     zen_of_python_cleaned.txt\n",
      "food_prices.csv\t\t    plot.pkl\t     zen_of_python.txt\n",
      "index.ipynb\t\t    README.md\n"
     ]
    }
   ],
   "source": [
    "! ls"
   ]
  },
  {
   "cell_type": "markdown",
   "id": "3036c19d",
   "metadata": {},
   "source": [
    "Interacting with files on disk with Python is somewhat more complex than interacting with Python variables in memory. It is a form of I/O — meaning \"input/output\" — which means that we need to incorporate the ideas of:\n",
    "\n",
    "- Opening and closing files\n",
    "- Reading from and writing to files\n",
    "- closing files\n",
    "\n",
    "In order to open a file with Python, you need to know the path to the file. By default this path is relative to the path you are running the Python code from."
   ]
  },
  {
   "cell_type": "code",
   "execution_count": 21,
   "id": "1cf63eb8",
   "metadata": {},
   "outputs": [],
   "source": [
    "# define file path\n",
    "file_path = \"./zen_of_python.txt\""
   ]
  },
  {
   "cell_type": "markdown",
   "id": "c962ce7e",
   "metadata": {},
   "source": [
    "### Reading Files"
   ]
  },
  {
   "cell_type": "code",
   "execution_count": 22,
   "id": "66944d5f",
   "metadata": {},
   "outputs": [],
   "source": [
    "# load file\n",
    "file_obj = open(file_path)"
   ]
  },
  {
   "cell_type": "markdown",
   "id": "f43d1da3",
   "metadata": {},
   "source": [
    "### Read all Contents"
   ]
  },
  {
   "cell_type": "code",
   "execution_count": 23,
   "id": "25d95f50",
   "metadata": {},
   "outputs": [
    {
     "data": {
      "text/plain": [
       "\"The Zen of Python, by Tim Peters\\n\\nBeautiful is better than ugly.\\nExplicit is better than implicit.\\nSimple is better than complex.\\nComplex is better than complicated.\\nFlat is better than nested.\\nSparse is better than dense.\\nReadability counts.\\nSpecial cases aren't special enough to break the rules.\\nAlthough practicality beats purity.\\nErrors should never pass silently.\\nUnless explicitly silenced.\\nIn the face of ambiguity, refuse the temptation to guess.\\nThere should be one-- and preferably only one --obvious way to do it.\\nAlthough that way may not be obvious at first unless you're Dutch.\\nNow is better than never.\\nAlthough never is often better than *right* now.\\nIf the implementation is hard to explain, it's a bad idea.\\nIf the implementation is easy to explain, it may be a good idea.\\nNamespaces are one honking great idea -- let's do more of those!\\n\\n\""
      ]
     },
     "execution_count": 23,
     "metadata": {},
     "output_type": "execute_result"
    }
   ],
   "source": [
    "# Read all Contents\n",
    "file_obj = open(file_path)\n",
    "content = file_obj.read()\n",
    "content"
   ]
  },
  {
   "cell_type": "markdown",
   "id": "0c743bdd",
   "metadata": {},
   "source": [
    "### Read Single line"
   ]
  },
  {
   "cell_type": "code",
   "execution_count": 24,
   "id": "c72d0442",
   "metadata": {},
   "outputs": [
    {
     "data": {
      "text/plain": [
       "'The Zen of Python, by Tim Peters\\n'"
      ]
     },
     "execution_count": 24,
     "metadata": {},
     "output_type": "execute_result"
    }
   ],
   "source": [
    "# Read Single line\n",
    "file_obj = open(file_path)\n",
    "content = file_obj.readline()\n",
    "content"
   ]
  },
  {
   "cell_type": "code",
   "execution_count": 25,
   "id": "36184377",
   "metadata": {},
   "outputs": [
    {
     "data": {
      "text/plain": [
       "['The Zen of Python, by Tim Peters\\n',\n",
       " '\\n',\n",
       " 'Beautiful is better than ugly.\\n',\n",
       " 'Explicit is better than implicit.\\n',\n",
       " 'Simple is better than complex.\\n',\n",
       " 'Complex is better than complicated.\\n',\n",
       " 'Flat is better than nested.\\n',\n",
       " 'Sparse is better than dense.\\n',\n",
       " 'Readability counts.\\n',\n",
       " \"Special cases aren't special enough to break the rules.\\n\",\n",
       " 'Although practicality beats purity.\\n',\n",
       " 'Errors should never pass silently.\\n',\n",
       " 'Unless explicitly silenced.\\n',\n",
       " 'In the face of ambiguity, refuse the temptation to guess.\\n',\n",
       " 'There should be one-- and preferably only one --obvious way to do it.\\n',\n",
       " \"Although that way may not be obvious at first unless you're Dutch.\\n\",\n",
       " 'Now is better than never.\\n',\n",
       " 'Although never is often better than *right* now.\\n',\n",
       " \"If the implementation is hard to explain, it's a bad idea.\\n\",\n",
       " 'If the implementation is easy to explain, it may be a good idea.\\n',\n",
       " \"Namespaces are one honking great idea -- let's do more of those!\\n\",\n",
       " '\\n']"
      ]
     },
     "execution_count": 25,
     "metadata": {},
     "output_type": "execute_result"
    }
   ],
   "source": [
    "# Read all lines\n",
    "file_obj = open(file_path)\n",
    "content = file_obj.readlines()\n",
    "content"
   ]
  },
  {
   "cell_type": "markdown",
   "id": "b637f5b2",
   "metadata": {},
   "source": [
    "### closing a file"
   ]
  },
  {
   "cell_type": "code",
   "execution_count": 26,
   "id": "a16bf535",
   "metadata": {},
   "outputs": [],
   "source": [
    "file_obj.close()"
   ]
  },
  {
   "cell_type": "markdown",
   "id": "ca3d5626",
   "metadata": {},
   "source": [
    "### Shortened Syntax Using with"
   ]
  },
  {
   "cell_type": "markdown",
   "id": "c3cbb8ce",
   "metadata": {},
   "source": [
    "When you use with open to start a block, the file object will automatically close at the end of that block."
   ]
  },
  {
   "cell_type": "code",
   "execution_count": 27,
   "id": "ec8d5e92",
   "metadata": {},
   "outputs": [
    {
     "name": "stdout",
     "output_type": "stream",
     "text": [
      "['The Zen of Python, by Tim Peters\\n', '\\n', 'Beautiful is better than ugly.\\n', 'Explicit is better than implicit.\\n', 'Simple is better than complex.\\n', 'Complex is better than complicated.\\n', 'Flat is better than nested.\\n', 'Sparse is better than dense.\\n', 'Readability counts.\\n', \"Special cases aren't special enough to break the rules.\\n\", 'Although practicality beats purity.\\n', 'Errors should never pass silently.\\n', 'Unless explicitly silenced.\\n', 'In the face of ambiguity, refuse the temptation to guess.\\n', 'There should be one-- and preferably only one --obvious way to do it.\\n', \"Although that way may not be obvious at first unless you're Dutch.\\n\", 'Now is better than never.\\n', 'Although never is often better than *right* now.\\n', \"If the implementation is hard to explain, it's a bad idea.\\n\", 'If the implementation is easy to explain, it may be a good idea.\\n', \"Namespaces are one honking great idea -- let's do more of those!\\n\", '\\n']\n"
     ]
    }
   ],
   "source": [
    "with open(file_path) as file_obj:\n",
    "    content = file_obj.readlines()\n",
    "    print(content)"
   ]
  },
  {
   "cell_type": "markdown",
   "id": "25f3031b",
   "metadata": {},
   "source": [
    "### Writing to files"
   ]
  },
  {
   "cell_type": "code",
   "execution_count": 28,
   "id": "4a95f8a8",
   "metadata": {},
   "outputs": [],
   "source": [
    "with open(\"./writen.txt\",mode=\"w\") as file_obj:\n",
    "    file_obj.write(\"Hello World\")"
   ]
  },
  {
   "cell_type": "markdown",
   "id": "fe2db152",
   "metadata": {},
   "source": [
    "## Dealing with Different File Types"
   ]
  },
  {
   "cell_type": "markdown",
   "id": "aaa49403",
   "metadata": {},
   "source": [
    "For more-complex file types, we will often need to use additional modules or libraries."
   ]
  },
  {
   "cell_type": "markdown",
   "id": "8cd72f2d",
   "metadata": {},
   "source": [
    "### CSV"
   ]
  },
  {
   "cell_type": "code",
   "execution_count": 29,
   "id": "1eb6402c",
   "metadata": {},
   "outputs": [
    {
     "name": "stdout",
     "output_type": "stream",
     "text": [
      "['City,Bread,Burger,Milk,Oranges,Tomatoes\\n', 'ATLANTA,24.5,94.5,73.9,80.1,41.6\\n', 'BALTIMORE,26.5,91.0,67.5,74.6,53.3\\n', 'BOSTON,29.7,100.8,61.4,104.0,59.6\\n', 'BUFFALO,22.8,86.6,65.3,118.4,51.2\\n', 'CHICAGO,26.7,86.7,62.7,105.9,51.2\\n', 'CINCINNATI,25.3,102.5,63.3,99.3,45.6\\n', 'CLEVELAND,22.8,88.8,52.4,110.9,46.8\\n', 'DALLAS,23.3,85.5,62.5,117.9,41.8\\n', 'DETROIT,24.1,93.7,51.5,109.7,52.4\\n', 'HONALULU,29.3,105.9,80.2,133.2,61.7\\n', 'HOUSTON,22.3,83.6,67.8,108.6,42.4\\n', 'KANSAS CITY,26.1,88.9,65.4,100.9,43.2\\n', 'LOS ANGELES,26.9,89.3,56.2,82.7,38.4\\n', 'MILWAUKEE,20.3,89.6,53.8,111.8,53.9\\n', 'MINNEAPOLIS,24.6,92.2,51.9,106.0,50.7\\n', 'NEW YORK,30.8,110.7,66.0,107.3,62.6\\n', 'PHILADELPHIA,24.5,92.3,66.7,98.0,61.7\\n', 'PITTSBURGH,26.2,95.4,60.2,117.1,49.3\\n', 'ST LOUIS,26.5,92.4,60.8,115.1,46.2\\n', 'SAN DIEGO,25.5,83.7,57.0,92.8,35.4\\n', 'SAN FRANCISCO,26.3,87.1,58.3,101.8,41.5\\n', 'SEATTLE,22.5,77.7,62.0,91.1,44.9\\n', 'WASHINGTON DC,24.2,93.8,66.0,81.6,46.2']\n"
     ]
    }
   ],
   "source": [
    "# Reaading csv data (tabular data)\n",
    "\n",
    "with open(\"./food_prices.csv\") as file_obj:\n",
    "    content = file_obj.readlines()\n",
    "    print(content)"
   ]
  },
  {
   "cell_type": "code",
   "execution_count": 30,
   "id": "f387b28a",
   "metadata": {},
   "outputs": [
    {
     "name": "stdout",
     "output_type": "stream",
     "text": [
      "{'City': 'ATLANTA', 'Bread': '24.5', 'Burger': '94.5', 'Milk': '73.9', 'Oranges': '80.1', 'Tomatoes': '41.6'}\n",
      "{'City': 'BALTIMORE', 'Bread': '26.5', 'Burger': '91.0', 'Milk': '67.5', 'Oranges': '74.6', 'Tomatoes': '53.3'}\n",
      "{'City': 'BOSTON', 'Bread': '29.7', 'Burger': '100.8', 'Milk': '61.4', 'Oranges': '104.0', 'Tomatoes': '59.6'}\n",
      "{'City': 'BUFFALO', 'Bread': '22.8', 'Burger': '86.6', 'Milk': '65.3', 'Oranges': '118.4', 'Tomatoes': '51.2'}\n",
      "{'City': 'CHICAGO', 'Bread': '26.7', 'Burger': '86.7', 'Milk': '62.7', 'Oranges': '105.9', 'Tomatoes': '51.2'}\n",
      "{'City': 'CINCINNATI', 'Bread': '25.3', 'Burger': '102.5', 'Milk': '63.3', 'Oranges': '99.3', 'Tomatoes': '45.6'}\n",
      "{'City': 'CLEVELAND', 'Bread': '22.8', 'Burger': '88.8', 'Milk': '52.4', 'Oranges': '110.9', 'Tomatoes': '46.8'}\n",
      "{'City': 'DALLAS', 'Bread': '23.3', 'Burger': '85.5', 'Milk': '62.5', 'Oranges': '117.9', 'Tomatoes': '41.8'}\n",
      "{'City': 'DETROIT', 'Bread': '24.1', 'Burger': '93.7', 'Milk': '51.5', 'Oranges': '109.7', 'Tomatoes': '52.4'}\n",
      "{'City': 'HONALULU', 'Bread': '29.3', 'Burger': '105.9', 'Milk': '80.2', 'Oranges': '133.2', 'Tomatoes': '61.7'}\n",
      "{'City': 'HOUSTON', 'Bread': '22.3', 'Burger': '83.6', 'Milk': '67.8', 'Oranges': '108.6', 'Tomatoes': '42.4'}\n",
      "{'City': 'KANSAS CITY', 'Bread': '26.1', 'Burger': '88.9', 'Milk': '65.4', 'Oranges': '100.9', 'Tomatoes': '43.2'}\n",
      "{'City': 'LOS ANGELES', 'Bread': '26.9', 'Burger': '89.3', 'Milk': '56.2', 'Oranges': '82.7', 'Tomatoes': '38.4'}\n",
      "{'City': 'MILWAUKEE', 'Bread': '20.3', 'Burger': '89.6', 'Milk': '53.8', 'Oranges': '111.8', 'Tomatoes': '53.9'}\n",
      "{'City': 'MINNEAPOLIS', 'Bread': '24.6', 'Burger': '92.2', 'Milk': '51.9', 'Oranges': '106.0', 'Tomatoes': '50.7'}\n",
      "{'City': 'NEW YORK', 'Bread': '30.8', 'Burger': '110.7', 'Milk': '66.0', 'Oranges': '107.3', 'Tomatoes': '62.6'}\n",
      "{'City': 'PHILADELPHIA', 'Bread': '24.5', 'Burger': '92.3', 'Milk': '66.7', 'Oranges': '98.0', 'Tomatoes': '61.7'}\n",
      "{'City': 'PITTSBURGH', 'Bread': '26.2', 'Burger': '95.4', 'Milk': '60.2', 'Oranges': '117.1', 'Tomatoes': '49.3'}\n",
      "{'City': 'ST LOUIS', 'Bread': '26.5', 'Burger': '92.4', 'Milk': '60.8', 'Oranges': '115.1', 'Tomatoes': '46.2'}\n",
      "{'City': 'SAN DIEGO', 'Bread': '25.5', 'Burger': '83.7', 'Milk': '57.0', 'Oranges': '92.8', 'Tomatoes': '35.4'}\n",
      "{'City': 'SAN FRANCISCO', 'Bread': '26.3', 'Burger': '87.1', 'Milk': '58.3', 'Oranges': '101.8', 'Tomatoes': '41.5'}\n",
      "{'City': 'SEATTLE', 'Bread': '22.5', 'Burger': '77.7', 'Milk': '62.0', 'Oranges': '91.1', 'Tomatoes': '44.9'}\n",
      "{'City': 'WASHINGTON DC', 'Bread': '24.2', 'Burger': '93.8', 'Milk': '66.0', 'Oranges': '81.6', 'Tomatoes': '46.2'}\n"
     ]
    }
   ],
   "source": [
    "# using libraries\n",
    "import csv\n",
    "with open(\"./food_prices.csv\") as file_obj:\n",
    "    reader = csv.DictReader(file_obj)\n",
    "    for row in reader:\n",
    "        print(row)\n",
    "    "
   ]
  },
  {
   "cell_type": "markdown",
   "id": "5ff6f7da",
   "metadata": {},
   "source": [
    "### Excel "
   ]
  },
  {
   "cell_type": "code",
   "execution_count": 31,
   "id": "119cdc19",
   "metadata": {},
   "outputs": [],
   "source": [
    "# Todo: read the excel file using xlrd library\n",
    "# and print all  its contents\n",
    "# file path: ./cities.xlsx"
   ]
  },
  {
   "cell_type": "markdown",
   "id": "3593aea7",
   "metadata": {},
   "source": [
    "### JSON\n",
    "JSON files are structured similarly to dictionaries, and can contain nested data. The json module allows you to load them into memory using Python data types (in this case, a dictionary)"
   ]
  },
  {
   "cell_type": "markdown",
   "id": "ae48512c",
   "metadata": {},
   "source": [
    "``` json\n",
    "{\n",
    "\t\"name\": \"Leia Organa\",\n",
    "\t\"height\": \"150\",\n",
    "\t\"mass\": \"49\",\n",
    "\t\"hair_color\": \"brown\",\n",
    "\t\"skin_color\": \"light\",\n",
    "\t\"eye_color\": \"brown\",\n",
    "\t\"birth_year\": \"19BBY\",\n",
    "\t\"gender\": \"female\",\n",
    "\t\"homeworld\": \"http://swapi.dev/api/planets/2/\",\n",
    "\t\"films\": [\n",
    "\t\t\"http://swapi.dev/api/films/1/\",\n",
    "\t\t\"http://swapi.dev/api/films/2/\",\n",
    "\t\t\"http://swapi.dev/api/films/3/\",\n",
    "\t\t\"http://swapi.dev/api/films/6/\"\n",
    "\t],\n",
    "\t\"species\": [],\n",
    "\t\"vehicles\": [\n",
    "\t\t\"http://swapi.dev/api/vehicles/30/\"\n",
    "\t],\n",
    "\t\"starships\": [],\n",
    "\t\"created\": \"2014-12-10T15:20:09.791000Z\",\n",
    "\t\"edited\": \"2014-12-20T21:17:50.315000Z\",\n",
    "\t\"url\": \"http://swapi.dev/api/people/5/\"\n",
    "}\n",
    "```"
   ]
  },
  {
   "cell_type": "code",
   "execution_count": 32,
   "id": "c514ff15",
   "metadata": {},
   "outputs": [
    {
     "data": {
      "text/plain": [
       "{'name': 'Leia Organa',\n",
       " 'height': '150',\n",
       " 'mass': '49',\n",
       " 'hair_color': 'brown',\n",
       " 'skin_color': 'light',\n",
       " 'eye_color': 'brown',\n",
       " 'birth_year': '19BBY',\n",
       " 'gender': 'female',\n",
       " 'homeworld': 'http://swapi.dev/api/planets/2/',\n",
       " 'films': ['http://swapi.dev/api/films/1/',\n",
       "  'http://swapi.dev/api/films/2/',\n",
       "  'http://swapi.dev/api/films/3/',\n",
       "  'http://swapi.dev/api/films/6/'],\n",
       " 'species': [],\n",
       " 'vehicles': ['http://swapi.dev/api/vehicles/30/'],\n",
       " 'starships': [],\n",
       " 'created': '2014-12-10T15:20:09.791000Z',\n",
       " 'edited': '2014-12-20T21:17:50.315000Z',\n",
       " 'url': 'http://swapi.dev/api/people/5/'}"
      ]
     },
     "execution_count": 32,
     "metadata": {},
     "output_type": "execute_result"
    }
   ],
   "source": [
    "# reading JSON files\n",
    "import json\n",
    "\n",
    "with open(\"leia.json\") as f:\n",
    "    leia_data = json.load(f)\n",
    "    \n",
    "leia_data"
   ]
  },
  {
   "cell_type": "markdown",
   "id": "6cd49447",
   "metadata": {},
   "source": [
    "### XML"
   ]
  },
  {
   "cell_type": "code",
   "execution_count": 33,
   "id": "15802b59",
   "metadata": {},
   "outputs": [],
   "source": [
    "# Todo: read the excel file using xlrd library\n",
    "# and print all  its contents\n",
    "# file path: ./cities.xlsx"
   ]
  },
  {
   "cell_type": "markdown",
   "id": "4f92d274",
   "metadata": {},
   "source": [
    "### images"
   ]
  },
  {
   "cell_type": "code",
   "execution_count": 34,
   "id": "cde73c7c",
   "metadata": {},
   "outputs": [
    {
     "name": "stdout",
     "output_type": "stream",
     "text": [
      "b'\\xff\\xd8\\xff\\xe0\\x00\\x10JFIF\\x00\\x01\\x01\\x01\\x01,\\x01,\\x00\\x00\\xff\\xdb\\x00C\\x00\\n\\x07\\x07\\x08\\x07\\x06\\n\\x08\\x08\\x08\\x0b\\n\\n\\x0b\\x0e\\x18\\x10\\x0e\\r\\r\\x0e\\x1d\\x15\\x16\\x11\\x18#\\x1f%$\"\\x1f\"!&+7/&)4)!\"0A149;>>>%.DIC<H7=>;\\xff\\xdb\\x00C\\x01\\n\\x0b\\x0b\\x0e\\r\\x0e\\x1c\\x10\\x10\\x1c;(\"(;;;;;;;;;;;;;;;;;;;;;;;;;;;;;;;;;;;;;;;;;;;;;;;;;;\\xff\\xc0\\x00\\x11\\x08\\x00\\x80\\x00\\x80\\x03\\x01\"\\x00\\x02\\x11\\x01\\x03\\x11\\x01\\xff\\xc4\\x00\\x1b\\x00\\x00\\x02\\x03\\x01\\x01\\x01\\x00\\x00\\x00\\x00\\x00\\x00\\x00\\x00\\x00\\x00\\x04\\x05\\x02\\x03\\x06\\x07\\x00\\x01\\xff\\xc4\\x008\\x10\\x00\\x02\\x01\\x02\\x05\\x03\\x02\\x05\\x02\\x04\\x06\\x02\\x03\\x00\\x00\\x00\\x01\\x02\\x03\\x04\\x11\\x00\\x05\\x12!1\\x13AQ\"a\\x06\\x142q\\x81\\x91\\xa1\\x15#\\xb1\\xd1\\x07BR\\xc1\\xe1\\xf0$b%\\x82\\xf1\\xff\\xc4\\x00\\x1a\\x01\\x00\\x03\\x01\\x01\\x01\\x01\\x00\\x00\\x00\\x00\\x00\\x00\\x00\\x00\\x00\\x00\\x02\\x03\\x04\\x01\\x05\\x00\\x06\\xff\\xc4\\x00)\\x11\\x00\\x02\\x02\\x02\\x02\\x01\\x04\\x01\\x03\\x05\\x00\\x00\\x00\\x00\\x00\\x00\\x01\\x02\\x00\\x11\\x03\\x12!1\\x04\\x13\"AQ\\x05aq\\x812BR\\x91\\xd1\\xff\\xda\\x00\\x0c\\x03\\x01\\x00\\x02\\x11\\x03\\x11\\x00?\\x00\\xda\\xcb\\x054\\x90\\xc7\\xaa\\x18:\\x9a5\\x05\\x8d\\x0b+\\x9e\\xd6n\\xd8\\x81p\\xd1\\x88\\x84\\xe69\\n\\x94\\xd3%\\xc2\\xb2\\x8e{mn\\xc7\\x03RW\\x8aR\\xb1\\x85\\x0e\\x96:;\\xd9@\\xbe\\xc7\\xc6\\x0c\\xa8\\xaf,\\x8b$\\x13\\xebV\\x01\\x99\\x1c\\x02,{q\\x7f8\\xf8_M\\xec\\x0e\\xfe\\xa56*\\xe5+,\\xd0\\xd3I\\xaa\\xf2\\xa2>\\x96\\xd24\\xa1\\x1c}_\\xbe\\xd8\\xa2\\x94uV\\xa7\\x88\\xc1Rx\\x05\\x16\\xfeI\\xdf\\x03\\xd6\\xce\\xb0\\xd3u\\xe6\\x96\\x18!f\\nW\\xa8~\\xae8<\\xdf\\x02\\xcf\\x9fS\\xd1C\\x19a\\x04d\\x1d\\xa4e\\x05\\x98\\xfb{\\xe2\\xccx\\x1d\\x94\\xe8;\\x98-\\x8cnkc\\x82`)\\xcb\\x05\\x0bm&M\\x89\\xe3\\xc1\\xfcbt\\xc1j\\xde\\xd6\\x0b0\\x02\\xe7Q\\xf5\\x9f?}\\xb0\\x82\\x0f\\x8a\\xb2\\xf5/3<\\xca~\\xa0\\xd0\\xa0\\xb8>\\xc3\\xdf\\x17d_\\x16\\xe5\\xb9\\xe4\\xce\\xb4\\xd3%\\x03\\x8b\\xff\\x00-\\x98\\x06v\\xecGn1\\x8d\\xe361\\xfd?\\xcc\\xdd[\\xe68\\x99\\xe5\\x92b\\xee\\xaaYHP{/\\xf7\\xc7\\x9dd\\x83\\xa6\\x10\\xb4\\xd1;\\x1b\\x16\\x03C\\x93\\xdcx\\xf1\\xf6\\xc4\\xa3\\xcd\"\\xf9\\x94\\r3\\xc7pC\\xb3\\x80=_\\x81\\x88\\xc5O\\x05juE\\xd0DHd\\x0cX\\xb6\\xd7\\x16\\xbf\\x1b\\x1c!\\x9fR6\\x14 \\xd7\\xd1\\x9e\\xeb\\xd3G\\n#\\xd49K\\x9e\\xa6\\x88\\xf4\\x81\\xb5\\xaf\\xf7\\xe2\\xf8\\x12\\n\\xd8D\\xac\\r(p\\xb7P\\x1fpG\"\\xde<[\\x06\\xaf\\xcb@\\t\\x82S\\xd6}\\xfaRG\\xbc\\x80\\x8d\\xd7\\xfe\\xf7\\x18\\x84n\\xd1\\xcaE$1S\\x82\\xa4\\xb1\\x9a\\xcaA\\xe3k\\xf1\\xbe\\n\\xc5\\x1e\\'\\x8d\\x99Dl@hf\\x11\\xd3\\xd8]X\\xc6\\xda\\xb9\\xbf\\x9e1],\\x92\\xd6;t\\xda^\\xb1\\x16$\\x91f\\xfc{\\x0bb\\xcc\\xc2\\xa2\\xa1a\\x12L\\xe1\\xf5\\xb9\\x8dYt\\x90\\x0fq~\\xdc\\x9e1M\\x1cq\\x95\\x84\\xc7X\\xf1\\xcc\\x15\\x83n\\x06\\x90o\\xbd\\xfbp9\\xc3z[=\\x9f\\xf5\\x17\\xce\\xd5\\x0c3\\xb51o\\x99\\xa8p\\xc2\\xc1zB\\xe6\\xd6\\xe3\\xb6>\\xc4\\xf0jX\\x9d\\xdeI\\x1f\\x96\\xe0\\x0f\\xb7\\xe7\\x1e\\x8e\\x8a:\\xba\\xc8\\xaa\\x1a\\xa5$[\\xfa\\x94\\xad\\xfa\\xbc\\xf3c\\x8a3h\\xd5*T\\xacb E\\xca\\x06\\nF\\xf6\\xbf\\xe7\\nR\\x8c\\xfa\\xc3%\\x94\\\\2@\\x90\\x96J\\x98\\xc7G\\xd3\\xa4\\xc6M\\x98\\xf1\\xcfc\\xfd\\xb0\\x1dD\\x8a\\x91\\x07\\xa6YDF\\xe1\\xcb\\xad\\xaf\\xda\\xd7\\xefo\\xed\\x8b$\\xab\\xa3\\x86\\x91#\\x90\\xcf2\\x15\\x0et0\\xb0\\xb1\\xbd\\xac\\x7f\\\\\\x13+\\xc9V\\x12*J\\xa9%g\\x00\\x10J\\xda0\\x06\\xfa\\xad\\xbd\\xf0*\\xfa\\x90X\\x7f\\xc9\\xa4l \\x7f;-)X^H\\xccN-\\xac\\xa7\\xd0\\x01\\xb6\\xdf|\\x0c\\x99\\xb54t\\xc2\\xa1$\\x8at\\x8d\\xac\\xfa\\x16\\xea\\xa0\\\\\\x8e?\\x18aT\\xb1\\xc3\\x0c\\x15\\xb1\\xbc\\x95a\\x9dUD\\xac\\x1a\\xe5\\xae\\x05\\xfb\\xdb|rV2\\xe5\\xf5\\xd5\\x14S\\x81\\x04\\xb1\\xb1I\\x05\\xacM\\xb8\\xd41\\x7f\\x85\\x8d2\\x03sT{\\xb9\\x9a|\\xe39\\xa5\\xcd&\\x8a\\xaaE2\\xc9\\x15\\xf4\\x06\\xf4\\xc6\\xa6\\xfc\\xe9\\x1d\\xed\\xb6\\x10\\xd5A\\x1ek2\\xcfU,\\x91\\xdd\\xb4\\x82\\xaaHU\\xee@\\x18\\xb2)!H\\x00\\x08\\x80.\\xf7<\\x9c\\x07SX\\x93F.\\xc5\\x7f\\xf5\\x8c\\xf3\\x8e\\xbe<a\\x14(\\xea4\\x90\\x04*\\x99\\xe9\\x91Z\\x16\\x91n\\xa4\\x8ep\\x90P\\xc6\\xb9\\xa4\\xb6$.\\xbb\\xa9\\x1d\\xb1\\xf2yW\\xa4:CK\\x92\\x00\\x1d\\xff\\x008kOHWY\\'QOH>}\\xf0f\\x0875\\xff\\x00\\n\\xfcG\\x97\\xcc\\xff\\x00\\xc230\\x19\\xc9\\xbcu\\r\\xc9\\xb0\\xfa\\t\\xf3\\xb65\\xb4\\x83\\xe7\\'yz1\\xa4(\\xc5UB\\x10\\x1b\\xc1?\\x8cr5\\xcb\\x1ae\\x02=Bb\\xc0\\x83\\x18\\xb98\\xe9\\xb9X\\xafJ8\\x1a\\xbecJ\\xcb\\x12\\x8636\\x92\\xec}\\xbbp?\\\\p\\xbc\\xef\\x1c%\\xba\\x9a&k\\x01\\xdch\\xe9K\\x97\\xcc\\xf3\\x96MlH\\x01\\xef\\xb1 l\\x0f\\x8c\\x0bU\\x14\\xb5\\xd1<\\xae\\x06\\xa4 $J/\\xab\\xd8\\x9ey\\xbe\\'3L)^\\'\\x90L\\x18\\x91\\xd4\\x0fq\\x7f\\xf2\\xdb\\xdb\\xb6>\\x8aw\\x86\\x9f\\xad\\x14\\xe1%\\x95\\x18\\x8dIr\\xc3\\x90\\x01\\xed\\xf6\\xc75\\x14\\xa2\\xecO\\xbb\\xe2\\t\\xa3\\xc4X\\xb4\\xb50\\xc9\\x14R\\x83\\x1c\\xbdFb\\xa1\\x03\\x1d\\xce\\xc7~\\xff\\x00l|\\x8e/\\x96\\xab\\x91j\"di\\x9fIf\\x8a\\xc5\\x85\\xf9\\xb6\\x1c\\xf5\\xa1\\xf9fu\\x98\\xbc\\x91\\xad\\x81u\\xbe\\xe0p<`\\n\\x84ybJ\\xd9j\\xe2\\x90\\xa8\\xb0N\\xea?\\xbd\\xf1J\\xe4f\\x1e\\xe1W\\xc4Q\\x00u\\n\\x82*x+ \\x9a\\x17\\xd7\\xae\\xe8\\x16\\xc3P\\xbf\\x7f\\xdb\\x1e\\xa94\\x9f\\xc4\\x0cU\\x0b\\xd7\\x0e\\x9b;X\\xe8:\\xbbx\\xff\\x00\\x8c(39\\x85u\\x9bX\\x96\\x03\\xed\\xef\\x8fD\\xa4\\xb4\\xa3\\xae#\\x04X\\x19\\x18\\x1d\\'\\xce\\xf8\\x03\\xe3\\xfb\\xb6&h\\xc8:\\x8fc\\xa3\\xa7\\x8e\\x9f\\xd3\\x1cU*\\xa0\\x82\\xd6\\x17;\\xef\\xbf|(\\xa4\\xad\\x9e\\x8a\\xbeUx\\xce\\x96:\\x9e%#R\\x83\\xc0\\x1fk\\xe1\\x8eZQc4\\xc8\\x1aGh\\xcb\\xf5.4\\xb5\\xce\\xd6\\x1bXc\\xcb\\xff\\x00\\xc6\\x02\\x8d$U\\x0c\\r\\xdfR\\xd9\\xc6\\xdbn{a\\x00\\x95-\\x8d\\xf9&0\\xd1\\xe4D\\xf1\\xfc\\xbcsG\\xd4\\xd5\\xd3CoH\\xdd[\\xcf\\xdf\\x8bc\\xe6u\\xf0\\x9e]\\xf1\\rA\\xa8\\x96\\x9a\\xa4\\xce\\x14t\\xa5\\x82@\\x8e}\\x98\\x90E\\xbf\\x180K\\x1a\\xcb\\xf2\\xe68$\\x11\\xeeg7\\xb8\\xf0G\\x93\\x80~\\'\\x9b\\xe2\\x1a\\xac\\xb64\\xc9%\\xd3\\x0bzf\\x1a:r\\x9bx{\\xdb\\xf4\\xb1\\xc7c\\xc6l~\\xa6\\xcfc\\xea/\\x18\\xa1Fb\\xb3\\x1f\\x833\\xac\\xaeF`\\xb1\\xf4ul\\xac\\xfa\\xad\\xed}\\xaf\\x85Y\\x86SYH\\xfa\\x9cC8PK\\x98\\xaeUm\\xda\\xff\\x00\\xdb\\x0f\\xa3\\xc9~\\'\\x92\\x9d\\xfayd\\xb00k\\xb5D\\xb3i\\x17\\xff\\x00\\xecm\\x8c}~k]<\\xa6\\x9e\\xa6R\\x08%J\\xdflu\\xd5\\xd5\\xcf\\xb0\\xdcs\\x1c`J.\\xe8D\\xe4\\x83\\xa5\\x81POpol2\\xae\\xf8\\x86.\\x98\\xf9Db~\\xa2\\x1b`/\\xe7\\t&\\x9bM\\xd5\\xaf\\xaa\\xf7#\\x15\\xb4\\xe9\\xd2\\xd2\\xaa5\\x1d\\x89\\xf1\\x87\\x05\\xb9>\\xc4u4y.kV*\\x92c)R\\x842\\xe9\\xda\\xd6\\xc7X\\xc93\\x05\\xa8\\xa3\\x8a\\xa6\\x9c\\xf5\\xcc\\xabv\\x12\\x13u~\\xe2\\xe6\\xfeq\\xc7\\xb2x\\xf5\\x10G\\x1ay\\xc6\\xb3\\xe1\\x9c\\xd0\\xe55\\xa6)\\x894\\x95\\x04\\x06\\xde\\xda\\x1b\\xb3~x\\xc4^V\\x11\\x90]C\\xe6\\xaeo\\xbf\\x91\\x9a\\xc53PU\\x88u\\xb8\\xfeY\\x8a\\xc42\\xf3\\xf8\\xdcb4\\x99\\x95u;\\x18\\xaa\\x98\\x19\\x01^\\xa9\\xd5}\\x1bX\\xdb\\x01\\xd3,j\\x8f,H\\xd0\\xf5\\x08C\\xa0\\x90\\x0e\\xff\\x00\\xb0\\xf6\\xc1\\xd1\\xce\\x89$\\xb5\\x12S\\x89e\\xd3p\\xa3e\\xbf\\x178\\xe0>\\x1e\\n\\xd5\\x8f\\x89\\x81\\xc5\\xd8\\x8c4\\xc0\\xc8*eh$\\x88\\xc8^\\xe5w\\xdf\\xc7\\xdb\\x0b_)\\xcbk\\xafUM\\xaa)\\x1d\\x8b\\x18\\x95\\x97S\\x0b\\xef`~\\x9f8\\xb2\\xae\\xaa\\x96jb\\x16\\x95D\\xac}^\\x00\\x1c\\xf1\\xe7\\x8cF\\x8e\\x92\\x9e\\xa7\\xa5$E`e\\xb9\\xf4\\x8d\\xefm\\xfd\\xf1:\\xa6Mw$\\x82!\\x92\\xa7\\x89\\x0f\\xe1\\xf4\\xd9\\x8b\\x88iz\\xf1\\x88}.\\xcfb\\x00\\x1c\\xf3\\xbd\\xee0[\\xe4\\xb4b#\\x1aE,\\x87\\x8b\\x99-a\\xf7\\xb6\\x16\\xcdG%:\\xa8Yd\\x06\\x15\\'ZHn\\xec\\xdbo\\x7f\\xbf=\\x86\\n\\xa7\\xaa\\x14\\xb4R\\xaa\\xe9\\xf4\\xa1\\n\\t\\'V\\xd6\\x1b\\xf3\\xc9\\xc1\\xe4\\xc7\\x97\\x8dZb\\xe9g\\x89*j*\\xcae\\x8e1\\xd2\\x85!a\\xfc\\xe9\\x18\\\\\\x8d\\xce\\x91\\xeds\\xe7\\x06\\x8a\\xa8\\x08\\tY\\xa5\\xa5[\\xee\\x14\\x90\\x07n0\\xb3\\xe6\\x1fHy$/$[\\xd9\\x90\\\\\\xdb\\x8d\\xff\\x008&I+\\xaa\\xe9\\x9d\\xe6\\xa0hf`\\x04rD}@\\xdf\\xdf\\xb63.?\\xf3\\xec\\xff\\x00\\x10\\x94\\x8e\\x84\\x00\\xd3<Q\\xc7!\\x88\\x80\\xdb\\xea\\xda\\xc4\\x81\\xe7\\xb7\\xe7\\x05%l\\xd0\\xd2\\xc5\\x00{\\x01\\x18%\\xed\\xbd\\xf8\\xb8\\xfdq\\xf1\\xa6\\xeb\"\\xc7)\\x92YJ\\xeb\\x10\\xdbu\\xed\\xbd\\xb0-]U\\x0b\\xa3\\xc6\\xd4\\x93A(:P3\\xeaS\\xbf>G\\x1f\\xb6,a\\xfd\\xae.Mu\\xc8\\x84\\xd6\\xd5M%1\\xa6\\xeb\\x89\\x16e\\n\\xc5\\xc7bw\\'\\xda\\xc2\\xdf\\x9cqL\\xfa\\x8dis\\xfa\\xaaq\\xba\\xc79\\xd3\\xb5\\xb6\\xe4c\\xaeR\\xaa\\xd5M\\x12\\xcat\\xc2M\\x8b\\x93k\\x01\\xd8}\\xf7\\xfd1\\x8d\\xff\\x00\\x12r\\x9aj\\x1c\\xe6\\x96xd\\xd4\\xd5\\x11j\\x90\\x15\\xb1\\x04\\x1b\\x03\\xefq\\xfd1W\\x80\\xe9\\x89\\xfd/\\x93\\x0e\\xcbs\\xf10Y\\x85\\x89W\\xe0\\x9d\\xb0,h]\\x80\\xc1\\x95\\xf1\\xfa\\xd0\\x03}\\xb1\\x18\\xa2*o\\xbe;\\xb7BeY\\x8d\\xb2\\xb9\\x84\\x11\\xf4\\xc9\\x1c\\x1d\\xf0\\xd6\\x17GC\\x1b5\\xf5\\x0e\\xf8\\xcd#2\\x1b_\\r!\\x94\\x04\\x17\\xfa\\xb0\\xb3\\x1e\\xa6\\x84\\xdde\\x99\\xe9\\x82\\x9e\\x9e\\n\\xd8Kt\\x86\\x90\\xd1\\x9f\\xa8_\\x921\\xa1\\xbb\\x86\\x8b\\xa4z\\x88\\xedsa\\xb0\\x1f\\xdb\\x1c\\xf2\\x8aBaQ)\\xb8\\xbe\\xdf|?\\xcb\\xb3\\xb9i\\x82$\\x8e^%\\xb6\\xc7\\x95\\xfby\\xc49\\xbck\\xf7,[\\xe3\\xf9X\\xf2\\xbe\\xa0\\xa0+c\\xa4\\xdf\\x83\\xb5\\xb0\\xcb)\\xae\\xa5\\x82\\xa6h\\xe6\\n\\x9b\\x07Y\\x1f\\x81\\xce\\xde\\xd8P*\\x16\\xa2\\x11T\\xa29\\x02\\x82\\x10\\x03p\\xc6\\xfe>\\xd8\\x85E3\\xd3\\xfa\\xdc\\x92\\xb2F\\xac\\x05\\xee-{\\xdb\\xee1\\xcb\\xcb\\x8bu*d\\xea\\xc5M\\xc6y\\x95sT\\xcf(\\x88\\x06\\x8c)Tb/c\\xc6\\x07\\x8b0\\x8f\\xa6\\x07J\\'A\\x11W\\x94\\xdfV\\xa1\\xc6(T\\x9azi\\xaaQ,\\x90\\x83\\xac\\x1eH\\xbf>\\xff\\x00\\xf3\\x8fE\\x14\\x8bF\\xb1,,\\x0b97Q{\\x8eI\\xb0\\xc6*\\xa0]o\\xa9\\xa5\\xda\\xee[\\x16\\xa8B8\\x90\\x9e\\x00v;\\x93\\xe4\\xe0\\xd4\\xad\\x9e\\x08\\xb4\\x89\\x99\\x8c\\xe3[1;\\x86&\\xd7\\x1e\\x07\\xb6\\x16;\\x98\\xe1fh\\xbdQ\\x9d%\\x7f\\xf5\\xe4\\x1b}\\xee?LN\\xaaN\\x97\\xca\\x97\\xfaD@\\x8e\\xc2\\xf7l\\x1bcW\\xecMW`a\\x19]ue*K5HEIe\\xd6_\\xbf\\x1f@\\x1d\\xc0\\xe2\\xfcm\\x83NmC\\x14\\xa2A\\xae\\xa2p\\xa4>\\xa5\\xf1m\\xc5\\xf6\\xbf\\x18N\\xe3K9u]\\x0c\\xa0z\\x86\\xf7\\x1b\\x8b\\x1f\\x1b\\xf1\\x88\\xac\\x8d$h\\xda@\\xd4l\\xdci\\x17\\x18\\x06\\xf1\\xd1\\xd8\\xb7W<\\xb9H\\x15\\x18\\x8a\\xf0\\xd9\\x8aU\\x88\\xb4\\xc7\\x14\\x97\\xd1\\xfe\\x9b\\xed\\xb7\\x83\\x8c7\\xf8\\x91Vj\\xb3\\n\\'7\\xd2!+\\xbfb\\x1c\\xf7\\xef\\x8dL\\x92\\x9dL\\xf1\\xbb\\xe8\\xd2\\xadf\\xed\\xb1\\xc6K\\xe3Z\\x94\\xac\\xa8\\xa0\\xa7rW\\xa6\\xafv\\xb5\\x83\\\\\\xef\\xfd1W\\x8b\\x89F`\\xdfP\\x95\\xc9\\xe3\\xeed\\xc4By\\x827a\\x82\\xa5\\xa5D\\x8c0\\xe5\\x86\\xc3\\xdf\\x1fV\\x1bLfK\\xb4c\\xd2,>\\xa6\\xf1\\xf6\\xc4\\xdd\\xc4t\\xac\\\\]\\xd5\\xc7n/\\xff\\x00\\xe6;\\x17\\x1b\\xd4X\\xd19}#\\x7f\\x7f\\x18e\\x97\\xe5\\xa5\\x88\\x92Bl\\x08\\xe7\\x17e\\xeb\\xd6%\\xd9\\x06\\x91\\xcf\\xdf\\x0e@^\\x8a\\x8f\\xa5lI<{c\\t\\x8cP \\xad\\x13GP\\x8bq\\xa2\\xda\\x87\\xbe.\\x12ZRH\\xdb\\xc6>\\x89c\\xa8\\x00\\xae\\xfa;\\xe2\\xa9\\x10\\x83pG\\xb8\\xc6\\xdd\\xc3\\xa8}\\x1d`\\x82\\xfa\\t\\xd0\\xc6\\xe4y\\xff\\x00\\x9ch\\x84\\xd4\\xf5\\x14\\xb1\\xbcHz\\xacJ\\xa5\\xd8\\xee\\t\\xdcx\\xfd|\\xe3\\x1b\\x13\\x15m\\'`w\\xc3\\xbc\\x9b:\\xa8\\xcaf\\xea\\xc2\\x11\\x85\\xacC\\x8b\\x8cM\\x9f\\x0e\\xc3e\\xee%\\xf1\\xed\\xd4u\\x1es\\xf2yltj\\x8b\\xd7\\x8d\\xc1\"\\xde\\x96Pv\\xbf\\xb9\\xc1\\x19Vy\\x0c\\x15\\xd3\\xbc4VJ\\xa9\\x06\\x95C\\xf4\\x7f\\xd2p\\xc2\\x83?\\xa5\\xccr\\xe4g\\x89^k\\x7f=R=\\x86\\xf6\\xff\\x00|g\\xc4\\xd1\\xd2f\"\\x9e0\\x16$k\\x8d\\xdbq\\xa8\\x9b\\x1e\\xdbc\\x80\\xb8Cl\\xac\\xb5\\x14\\xecT\\x8eau\\x99\\x87\\xf1,\\xe2IU:(!\\xd1b~\\xad\\xce\\xe7\\x15O\\xaf\\xf9R:\\x86H\\x97P\\x03\\xce\\xe4o\\xecO\\xef\\x88\\xf4\\xe9M\\xa7\\x8a\\xa5uY\\x81^\\xc4\\x93\\xdb\\xf4\\xc4f\\x95\\x80YU}\\x00\\x90\\xccF\\xc0\\xdfo\\xdf\\x14\\xaa\\xe9@Dm\\xc92\\xba\\x89\\x8c\\xf4\\xe0\\xf9 \\x1f\\xd7\\x8c\\x10T,J\\r\\xec\\r\\xda\\xdd\\xf6\\xc0\\xb3!dh\\xe2\\x00\\xb0!\\xb6\\xefc\\xce\\x18t\\x85Drt\\x8d\\xa5H\\xae\\xc9\\xe4\\x13\\xf5~;\\xe0\\xd4X\\xa8\"\\x0f\\xa5\\xd6\\x15\\xd2\\xc0\\x00\\r\\xc0\\x1d\\x85\\xed\\xf9\\xbd\\xff\\x00l\\x11\\x93E\\x93\\xbd\\x1bTf1\\xc0\\xd3\\xc2JFg\\xb6\\xd7\\x1bZ\\xfd\\xc9\\xc5H\\xc5\\xaa\\xba{\\xa5\\x81P-\\xcf\\xa7o\\xf7\\xc0T\\x86\\x82\\xa6\\x96T\\x9aGZ\\x94\\xb1\\n\\x14\\x14 w>7\\xdf\\x03\\x916Z\\xb2?h\\xccf\\x9a\\xe6o\\xe2\\xfa\\x8c\\xab6\\xce#\\xa7\\xc9m\\x14P\\xc6\\xc6\\xa5\\xa2]\\x11\\xde\\xfd\\x87\\xec|\\x9bc/C!\\x95k\\x99\\xc9(\\x02\\xb8\\x07\\xc6\\xb1\\xfe\\xc7\\x1b\\x9a\\xac\\x9e\\x8e\\x1a\\xff\\x00\\x91Z\\x9d+T\\xca\\xe6B\\x85J\\xdb\\x7f\\xcd\\xce\\xf82\\x1f\\xf0\\xc5fi&\\xcb\\xe6zH$R\\xa1*\\xbdm\\xb1\\xd8\\xed\\xda\\xe3\\x1d\\x01\\xe4\\xe1\\xf1\\xf1\\x00\\xc6\\x87\\xeb\\x1bl\\xe6\\xc4\\xcbS\\xc8\\x85:H-\\xa7s\\xf7\\xc6\\xf7\\xe0\\xda|\\xa1\\xea\\xe5\\x8a\\xa5\\x11\\xeb#\\n\\xb1\\xa4\\xa2\\xeb\\xa4\\r\\xec\\x0f&\\xf7\\xc6U~\\x14\\xaf\\xa0\\xf8\\x8e:\\x02\\x82Y\\x1c\\x83a\\xe9V\\xefpO\"\\xd7>\\xd8\\xd0\\xfc=<y\\x07\\xc4\\x19\\x94y\\x93\\xc2\\xaeX)\\x987\\xa5\\t7\\n\\x0fro\\xf8\\xb6\\'\\xf3\\xb2\\x0c\\x98\\x18b6j\\xc5G\\xa1\\xe7\\x98\\xcf\\xe3j\\x1c\\xb2\\x97,\\xf9\\xc8\\xe1\\x8e\\n\\xb2\\xfe\\x93\\x1a\\xe9\\xea\\x7f\\xa8\\x109\\xdb\\xbe9\\xacUz\\x98\\xb17\\x04l\\x0e:\\x1f\\xc7Y\\xbe_Q\\x91\\x08#\\xa8IgiA@\\x86\\xe4\\x0e\\r\\xff\\x00\\\\g~\\r\\xf8\\x1ds\\x9c\\xb9s\\n\\xea\\x96\\x8a\\x98\\xb1T\\x8e?\\xa9\\xad\\xcd\\xcfl#\\xf1\\xfeG\\xa1\\xe2o\\x9c\\x9e\\xfea\\xb7t\"x\\xa5\\x12o\\xe3\\x06!\\x0c\\xc3q`?\\\\n%\\xff\\x00\\x0f2G\\x80-<\\x95\\x110\\x16\\xea\\t5\\\\\\x8f \\xed\\x8c\\x87\\xc4\\x1f\\x0fT\\xfc9U\\x1a\\xbc\\xeb4\\x12\\xdf\\xa7 \\x16\\'\\xc8#\\xb1\\xc5\\xbe?\\xe4\\xb0y\\r\\xa2\\x9a?\\xac\\xf5T\\x8d\\x1dd\\x99uK:\\xb1\\xd0\\xe3K\\x8b\\xfdC\\r\\xe8\\xeb!\\xacg\\xaa\\x89\\x02\\xba\\xcbb9\\xd4\\x1b{\\x9f{\\x8f\\xdf\\x19\\xe9.\\xf1\\x80y\\xb6-\\xcb%zGvG\\r\\x1bl\\xe8w\\xb8\\xc5\\x19\\xb0\\x87\\x16;\\x89\\xcb\\x8fnGq\\xf5<\\xd5.\\xd2\\xa5R\\xabu7\\xeaF\\x00\\xb6\\xff\\x00\\xa5\\xf0u,+_\"\\xc4\\'YB\\x83\\xce\\xc4x\\'\\xce\\xfe0\";t\\xf4C  \\xaf\\xa0\\x7f\\xec{\\xdf\\xf6\\xc4\\xa2i\\xa1\\xab\\x8eqa{\\xa3\\x84S\\xcd\\xae\\x7f\\xef\\xdf\\x1c\\xef\\x9ed?\\xbc\\xaa\\x91$I\\x97\\xa8\\x8d\\x1c\\x82EK0 \\xdb{\\xed\\xf7\\xbe\\tJ\\xb9)s\\x15b}\\x0c\\xa1Qv7\\x17\\xb1\\xfb`\\xfc\\xd6J\\xa8\\xf3>\\xb5LQ\\xde;X\\xa06`8\\xe7\\xbe\\xf8^\\x941\\xcdZRI\\xa3\\x0e\\x17Rk\\xe4o~|\\x7f\\xc6\\x17\\x89\\x8b(h\\xc6\\x1a\\x9a\\x86\\xcb\\x18\\x86\\xa5\\xea\\x04\\x12\\x1d$]\\x83zN\\xd6\\xe3\\xed\\x8c\\xdcP\\x08\\xabL\\xb6\\x066@\\x08#\\x9dF\\xdb\\xfe6?|i\\x9e\\x05\\x9b3\\x86b\\x11\\xc6\\x9e\\x9c\\x8a\\x84\\x16\\x1b\\xda\\xf6\\xe7\\xcf\\x1e04\\x94\\x11$\\x80z\\xff\\x00\\x92\\xea\\xc4\\x81\\xa8\\xfaM\\xed\\xfa\\xe1\\xd5P`\\xf9\\xa54R^wx\\xd9\"\\xff\\x00\\xc7\\x85T\\x8dH\\xdawk\\x9eM\\xb8\\xfe\\xf8cG\\xf1Je\\xd0\\xc9\\rl2\\x15\\x85Y\\xc4\\x91\\xae\\xa0\\xca-\\xef\\xcd\\x8f\\x18\\x0b9\\xa2\\xa69h\\x814\\t\\x1d\\xf5\\x80\\x17r\\xc5v7\\xf1\\xdb\\xf3\\x80\\xa8f\\x8d\\xe0\\xabi\\xfdP\\xb4a%G\\xef{\\x0f\\xd7\\xfb\\xe1Y\\xb1&U\\n\\xfdC\\\\\\x85O\\x11\\xaag\\x92\\xbc&\\xb1R)gr\\xbd\\x0b\\xfa\\xd8#9\\x166\\xe3}\\xbe\\xf6\\xc2\\xec\\xcd`|\\xd5\\xa2h\\xcb\\xc5S3\\xab(A\\xf5v7\\xf3\\xcd\\xbe\\xf8\\xa7-Tj\\xc9\\x13\\xa8\\xff\\x00) \\xd1\\xd3\\xdd\\x1a1pG\\x07\\x90w\\xd5\\xde\\xf8a2\\x13Q6\\x99eFJ\\x9da>\\xa0\\xd7\\xf2\\x00\\xc1\\x0ci\\x8c\\xda\\xcd9\\t\\x1c\\xcc\\x9dVI\\x9bf5\\xb5\\x11e\\xb4\\xad%\\x9d\\xa4bl\\xba\\x96\\xe7\\xcf\\xfd\\xdb\\x19\\xaa|\\xe76\\xcb\\x83REYQ\\x12#01\\x07!A\\'\\xd4-\\xef\\x8e\\x95P\\xb3GN]\\xa5\\xba\\xb1\\xb8\\xd2}&\\xfd\\xee9\\xc6\\x076\\xa65\\xbf\\x11M\\x05,!&y\\x0e\\xa5;\\x00@\\xb9>\\xc2\\xdb\\x93\\x8b\\xb0d9\\tV\\x1cC\\x19,\\xcd-/\\xc5\\xb9\\x9eOGI\\x1d,\\x8ai\\xa4\\xa8f]`\\x9b\\xc6\\xc1\\x1a\\xdf\\x82\\xc7\\xf4\\xc0y\\x8ew]T\\xef\\x16eVZ(ff\\x8e3\\xc2\\x9b\\x91\\xb7~6\\xdf\\x02O\\t?\\x0e\\xd3H\\xa1$JI]\\x03.\\xf7\\xb8\\x06\\xe7\\xda\\xf7\\xc0\\xb9\\xe5\\x05a\\xcc$\\x9d\\xa1q\\x05L\\xc5b\\x90\\xf0X\\x8b\\x80=\\xaf\\xb67\\x1e,A\\xf6\\x00_1\\xa1\\xfe\\xe5\\xaf\\x9bR\\xba\\xd8\\xbd\\xbbq\\x88E\\x99C\\x14\\xb7W\\xd2\\xa3p0\\xae\\x93%\\xcc+)\\xc5Z\\xa3\\x8an\\xa2\\xc5$\\xc0\\x02\\xb1\\xb16\\xf5x\\xc1?\\xc1^\\x9a\\xbcC-J\\xcb\\x11\\xd3g\\x00\\x8f\\xab\\x8d\\x8f\\x1eqI\\xa1\\xf3\\x0b{\\x9a\\xec\\xa32Z\\x8ai:\\x7f\\xe5\\xde\\xde<\\xdb\\xef\\x87\\xd4\\xf2AM\\xd0\\x9e\\xa2G\\xf58EX\\xc0b\\t\\xee|c\\x19\\x93ASK$\\x91\\x95\\xd1e \\x81\\xe4a\\xd4U\\xa5\\xe3\\x90\\x14\\xb3F\\xa0\\xb5\\xb8;\\xf3c\\xdcc\\x9d\\xe4\\xe2,v^\"r(\\x07j\\x9a9\\xab!\\xaei\\x91\\xd1\\xc2+\\xe8\\xbd\\xf7;\\xff\\x00Pp3\\xba\\x8aubuH\\xbbh+\\xbb\\x00;\\xfd\\xbb\\x0f8\\xa6\\x9et\\x96\\xa5\\xec\"\\xe9\\x86v\\xba\\x8f\\xa6\\xdb\\xdfq\\xc9\\xdf\\x15\\xa3\\xc8\\xad\\xfc\\xc8\\xf5-\\xb5\\x89\\x14\\xdf~-\\x85\"\\x84\\x01D\\x99\\x98\\xb7&\\x19\\xac\\xbd\\xb5\\xae\\xad\\x177\\xbf\\xd4/\\xb7\\xecpG\\xccE%;<E\\xb7\\x02\\xcc\\xeb\\xa7{\\xdb\\xbf\\x1b\\xff\\x00\\\\\\'\\xa8\\x98CR41\\xe9\\xbc#I;\\x13\\xb9&\\xe3\\xf4\\xc7\\x92\\xa3\\xa8\\x8eC3\\x06){\\xf7\\xc6\\x96\\xe6\\xa7\\xb6\\x8c*fYCS\\xc9\\xd4\\x05\\xbe\\x82\\xb6\\xdb{\\x1c\\x04\\x91AH\\xf3\\xac\\x9a\\x95f\\xd2F\\xa0<\\xf3\\xfb\\xe3\\xc2q\\x14\\xef1}EP\\xa8\\x8c\\xed\\xc9\\xbf?\\xb6,\\xcc\\xddX\\xc4\\xccTi%M\\xc7\\xf9\\x88\\xbf\\xf5\\xb6\\x01\\x8c\\xcf\\x89JS\\x8e\\x9b\\xbc\\'T\\xael\\xd7\\xb2\\x93qo\\xdb\\x8c];\\xa0\\x95\\x8b\\xc8\\xf0\\x19\\x17N\\xcaX\\xddF\\xe4\\x0e\\xf7\\x18\\xa6\\x08\\xdaB\\xe8\\xa8\\xd25\\x86\\x9b\\xb6\\xd7\\xbe\\xe7\\xdbl\\x17SN\\xd4\\xaa\\xebXHv\\x1a\\xe3\\xd0o\\x7f\\x1b\\xf6\\x07\\xc7\\xb6\\x07`Z\\xaem\\x1a\\xb8\\x15Yb\\xef\\x14\\x11\\xa8\\x86E\\x0c\\x80\\xdc\\x13\\xda\\xdf\\xb6\\x0ejU|\\xb0\\xfc\\xcd\\x1a\\xc93\\xc6\\xd1Y\\xd7\\xd6\\xab\\xdf\\xdf\\x8c\\x06\\xf3OWM#Hz\\x7f,\\x05\\x8a\\x02\\xac\\xab~6\\xeds\\xfdq\\n\\x11\\xd2\\tN\\xd5M\\x10\\x0c\\x02\\xdc\\x06\\r\\xbd\\xca\\x83\\xef\\xfe\\xf8`4g\\xaeN\\x85\"\\xcba\\x0fN\\x866`\\xc8c[Y\\xc6\\xd6>\\xfb\\xe0\\x99r(\\xb3jtZ\\xb7\\xd0\\xa4\\x91\\x1d\\x9ciW#\\xd2\\xden\\r\\x80\\xfb\\x9cN\\xb71\\x8dzs<\\'T\\xa7B\\x88\\xd4\\x7f-\\x81\\x17\\xe4\\xfb\\xf1\\x8f\\x8e\\x88\\xc6\\x94\\xcd\\x1cai\\x830m^\\xb2\\xcd\\xd8\\x0fqm\\xff\\x00\\xb61\\t\\x0fd\\xc3\\x06-\\xa0\\xa4\\x94C]\\x02\\x96Q\\x1e\\x99\\x84j\\xc1t\\xbb5\\x98\\xdcr\\x01-\\xcd\\xed\\x85Y\\xb5\\x1dl\\x15B\\x9a\\xbc<\\xc4\\x82R\\xa2\\xc5\\x86\\xdc\\x02G\\x81\\xdb\\x1a\\xdaE\\x13\\xd5\\xe6M\\x12\\x98\\x8a\\xa5\\xbd<_Po\\xc9\\xbd\\xf0\\xb6\\xa6\\xa1\\xb3L\\xbb\\xabI4\\x8958\\t8\\xda\\xec\\xbf\\xea\\xb7~7\\xf6\\xb7\\x83\\x8a\\xf7\\xe7\\x88\\xcd\\xe8\\xf1\\x18\\xe5\\xf95\\x149tST\\x80\\xf5\\xb5\\x10\\x86b\\xb7 \\x0b\\x0b\\x91\\xdba\\xcf\\xeb\\x85tTj\\xf3\\x13\\r4\\xce\\x14\\x95\\xea\\x82Tl{\\x8f\\xdb\\x16\\xd3N\\xa2T\\xa7i$\\x81\\x10\\x84\\x81\\x8bn\\x1b\\xc5\\x86\\xfe\\xde9\\xc3\\n\\xba\\xb9a\\xad\\xe8CA%\\xe6\\x00K%\\xfd7\\x03\\xeb\\x03\\xb6\\xdf\\xd3\\x12\\x8fQ\\x01\\xben4\\xba\\xbf\\x06\\x7f\\xff\\xd9'\n"
     ]
    }
   ],
   "source": [
    "# reading images as binary files\n",
    "with open(\"./dog.jpg\",mode=\"rb\") as file_obj:\n",
    "    content = file_obj.read()\n",
    "    print(content)"
   ]
  },
  {
   "cell_type": "code",
   "execution_count": 36,
   "id": "3a99c963",
   "metadata": {},
   "outputs": [
    {
     "data": {
      "image/jpeg": "[encoded data removed]",
      "image/png": "[encoded data removed]",
      "text/plain": [
       "<PIL.JpegImagePlugin.JpegImageFile image mode=RGB size=128x128>"
      ]
     },
     "metadata": {},
     "output_type": "display_data"
    }
   ],
   "source": [
    "# reading with pillow\n",
    "from PIL import Image\n",
    "img = Image.open(\"./dog.jpg\")\n",
    "display(img)"
   ]
  },
  {
   "cell_type": "markdown",
   "id": "860dfe9c",
   "metadata": {},
   "source": [
    "### Pickle "
   ]
  },
  {
   "cell_type": "code",
   "execution_count": null,
   "id": "2f8b7b92",
   "metadata": {},
   "outputs": [],
   "source": [
    "# Todo: read the pickel file using pickle library\n",
    "# and print  its contents\n",
    "# file path: ./plot.pkl"
   ]
  },
  {
   "cell_type": "markdown",
   "id": "ec0785c1",
   "metadata": {},
   "source": []
  }
 ],
 "metadata": {
  "kernelspec": {
   "display_name": "venv",
   "language": "python",
   "name": "python3"
  },
  "language_info": {
   "codemirror_mode": {
    "name": "ipython",
    "version": 3
   },
   "file_extension": ".py",
   "mimetype": "text/x-python",
   "name": "python",
   "nbconvert_exporter": "python",
   "pygments_lexer": "ipython3",
   "version": "3.12.3"
  }
 },
 "nbformat": 4,
 "nbformat_minor": 5
}
