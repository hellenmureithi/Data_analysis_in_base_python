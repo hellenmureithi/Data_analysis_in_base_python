{
 "cells": [
  {
   "cell_type": "markdown",
   "id": "9e40a628",
   "metadata": {},
   "source": [
    "# Common Datascience Data Formats"
   ]
  },
  {
   "cell_type": "markdown",
   "id": "668d7d77",
   "metadata": {},
   "source": [
    "###  CSV \n",
    "\n",
    "The full name for this data format is \"comma-separated values\", but it is conventionally referred to by the shorthand \"CSV\"\n",
    "\n",
    "CSV is a plain text, delimited format, meaning its contents are essentially just strings with a specified structure. You can visually inspect the contents of plain text files using general-purpose text editing tools such as Vim, VS Code, or Notepad. (This is in contrast to formats like images or SQLite databases, which contain encoded bytes that require specific tools to read.)"
   ]
  },
  {
   "cell_type": "code",
   "execution_count": 12,
   "id": "62778a05",
   "metadata": {},
   "outputs": [],
   "source": [
    "import csv"
   ]
  },
  {
   "cell_type": "code",
   "execution_count": 13,
   "id": "1fc0e0f0",
   "metadata": {},
   "outputs": [
    {
     "name": "stdout",
     "output_type": "stream",
     "text": [
      "{'Gender': 'M', 'Event': '10000M Men', 'Location': 'Rio', 'Year': '2016', 'Medal': 'G', 'Name': 'Mohamed FARAH', 'Nationality': 'GBR', 'Result': '25:05.17'}\n",
      "{'Gender': 'M', 'Event': '10000M Men', 'Location': 'Rio', 'Year': '2016', 'Medal': 'S', 'Name': 'Paul Kipngetich TANUI', 'Nationality': 'KEN', 'Result': '27:05.64'}\n",
      "{'Gender': 'M', 'Event': '10000M Men', 'Location': 'Rio', 'Year': '2016', 'Medal': 'B', 'Name': 'Tamirat TOLA', 'Nationality': 'ETH', 'Result': '27:06.26'}\n",
      "{'Gender': 'M', 'Event': '10000M Men', 'Location': 'Beijing', 'Year': '2008', 'Medal': 'G', 'Name': 'Kenenisa BEKELE', 'Nationality': 'ETH', 'Result': '27:01.17'}\n",
      "{'Gender': 'M', 'Event': '10000M Men', 'Location': 'Beijing', 'Year': '2008', 'Medal': 'S', 'Name': 'Sileshi SIHINE', 'Nationality': 'ETH', 'Result': '27:02.77'}\n"
     ]
    }
   ],
   "source": [
    "with open(\"./data/olympic_medals.csv\") as file:\n",
    "    reader = csv.DictReader(file)\n",
    "    olympics_data = list(reader)\n",
    "\n",
    "# Print the first 5 rows of data\n",
    "for index in range(5):\n",
    "    print(olympics_data[index])\n",
    "\n"
   ]
  },
  {
   "cell_type": "markdown",
   "id": "d0702ff9",
   "metadata": {},
   "source": [
    "The number of rows in the dataset is just the length of the resulting list:"
   ]
  },
  {
   "cell_type": "code",
   "execution_count": 14,
   "id": "2248c8d5",
   "metadata": {},
   "outputs": [
    {
     "data": {
      "text/plain": [
       "2394"
      ]
     },
     "execution_count": 14,
     "metadata": {},
     "output_type": "execute_result"
    }
   ],
   "source": [
    "len(olympics_data)"
   ]
  },
  {
   "cell_type": "markdown",
   "id": "919a3097",
   "metadata": {},
   "source": [
    "#### Filter the data so that it only includes gold medals"
   ]
  },
  {
   "cell_type": "code",
   "execution_count": 15,
   "id": "f1bb133f",
   "metadata": {},
   "outputs": [
    {
     "data": {
      "text/plain": [
       "799"
      ]
     },
     "execution_count": 15,
     "metadata": {},
     "output_type": "execute_result"
    }
   ],
   "source": [
    "gold_medals = []\n",
    "for row in olympics_data:\n",
    "    if row[\"Medal\"]==\"G\":\n",
    "        gold_medals.append(row)\n",
    "        \n",
    "len(gold_medals)"
   ]
  },
  {
   "cell_type": "markdown",
   "id": "ef4091df",
   "metadata": {},
   "source": [
    "#### Filter data to get kenyan Gold Medals"
   ]
  },
  {
   "cell_type": "code",
   "execution_count": 16,
   "id": "51da0d96",
   "metadata": {},
   "outputs": [
    {
     "data": {
      "text/plain": [
       "26"
      ]
     },
     "execution_count": 16,
     "metadata": {},
     "output_type": "execute_result"
    }
   ],
   "source": [
    "kenyan_gold_medals = []\n",
    "for row in olympics_data:\n",
    "    if row[\"Nationality\"] == \"KEN\" and row[\"Medal\"] == \"G\" :\n",
    "        kenyan_gold_medals.append({\"Event\":row[\"Event\"],\"Name\":row[\"Name\"]})\n",
    "        \n",
    "len(kenyan_gold_medals)"
   ]
  },
  {
   "cell_type": "markdown",
   "id": "c1b6e8ff",
   "metadata": {},
   "source": [
    "### Saving Files"
   ]
  },
  {
   "cell_type": "code",
   "execution_count": 18,
   "id": "ae183456",
   "metadata": {},
   "outputs": [],
   "source": [
    "with open(\"./data/kenyan_2016_gold_madals.csv\",\"+w\") as file:\n",
    "    writer = csv.DictWriter(file,fieldnames=[\"Event\",\"Name\"])\n",
    "    writer.writeheader()\n",
    "    writer.writerows(kenyan_gold_medals)"
   ]
  }
 ],
 "metadata": {
  "kernelspec": {
   "display_name": "venv",
   "language": "python",
   "name": "python3"
  },
  "language_info": {
   "codemirror_mode": {
    "name": "ipython",
    "version": 3
   },
   "file_extension": ".py",
   "mimetype": "text/x-python",
   "name": "python",
   "nbconvert_exporter": "python",
   "pygments_lexer": "ipython3",
   "version": "3.12.3"
  }
 },
 "nbformat": 4,
 "nbformat_minor": 5
}
