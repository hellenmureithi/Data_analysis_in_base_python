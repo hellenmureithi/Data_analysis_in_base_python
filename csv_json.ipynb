{
 "cells": [
  {
   "cell_type": "markdown",
   "id": "9e40a628",
   "metadata": {},
   "source": [
    "### Common Datascience Data Formats"
   ]
  },
  {
   "cell_type": "markdown",
   "id": "668d7d77",
   "metadata": {},
   "source": [
    "##  CSV \n",
    "\n",
    "The full name for this data format is \"comma-separated values\", but it is conventionally referred to by the shorthand \"CSV\""
   ]
  },
  {
   "cell_type": "markdown",
   "id": "fd7b4d66",
   "metadata": {},
   "source": []
  }
 ],
 "metadata": {
  "language_info": {
   "name": "python"
  }
 },
 "nbformat": 4,
 "nbformat_minor": 5
}
