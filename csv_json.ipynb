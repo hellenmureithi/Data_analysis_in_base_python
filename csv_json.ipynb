{
 "cells": [
  {
   "cell_type": "markdown",
   "id": "9e40a628",
   "metadata": {},
   "source": [
    "# Common Datascience Data Formats"
   ]
  },
  {
   "cell_type": "markdown",
   "id": "668d7d77",
   "metadata": {},
   "source": [
    "###  CSV \n",
    "\n",
    "The full name for this data format is \"comma-separated values\", but it is conventionally referred to by the shorthand \"CSV\"\n",
    "\n",
    "CSV is a plain text, delimited format, meaning its contents are essentially just strings with a specified structure. You can visually inspect the contents of plain text files using general-purpose text editing tools such as Vim, VS Code, or Notepad. (This is in contrast to formats like images or SQLite databases, which contain encoded bytes that require specific tools to read.)"
   ]
  },
  {
   "cell_type": "code",
   "execution_count": null,
   "id": "62778a05",
   "metadata": {},
   "outputs": [],
   "source": []
  },
  {
   "cell_type": "code",
   "execution_count": 19,
   "id": "1fc0e0f0",
   "metadata": {},
   "outputs": [],
   "source": [
    "# load data\n",
    "\n",
    "# Print the first 5 rows of data\n",
    "\n",
    "\n"
   ]
  },
  {
   "cell_type": "markdown",
   "id": "d0702ff9",
   "metadata": {},
   "source": [
    "The number of rows in the dataset is just the length of the resulting list:"
   ]
  },
  {
   "cell_type": "code",
   "execution_count": null,
   "id": "2248c8d5",
   "metadata": {},
   "outputs": [],
   "source": []
  },
  {
   "cell_type": "markdown",
   "id": "919a3097",
   "metadata": {},
   "source": [
    "#### Filter the data so that it only includes gold medals"
   ]
  },
  {
   "cell_type": "code",
   "execution_count": null,
   "id": "f1bb133f",
   "metadata": {},
   "outputs": [],
   "source": []
  },
  {
   "cell_type": "markdown",
   "id": "ef4091df",
   "metadata": {},
   "source": [
    "#### Filter data to get kenyan Gold Medals"
   ]
  },
  {
   "cell_type": "code",
   "execution_count": null,
   "id": "51da0d96",
   "metadata": {},
   "outputs": [],
   "source": []
  },
  {
   "cell_type": "markdown",
   "id": "c1b6e8ff",
   "metadata": {},
   "source": [
    "### Saving Files"
   ]
  },
  {
   "cell_type": "code",
   "execution_count": 20,
   "id": "ae183456",
   "metadata": {},
   "outputs": [],
   "source": [
    "# saving files\n"
   ]
  }
 ],
 "metadata": {
  "kernelspec": {
   "display_name": "Python 3 (ipykernel)",
   "language": "python",
   "name": "python3"
  },
  "language_info": {
   "codemirror_mode": {
    "name": "ipython",
    "version": 3
   },
   "file_extension": ".py",
   "mimetype": "text/x-python",
   "name": "python",
   "nbconvert_exporter": "python",
   "pygments_lexer": "ipython3",
   "version": "3.12.3"
  }
 },
 "nbformat": 4,
 "nbformat_minor": 5
}
