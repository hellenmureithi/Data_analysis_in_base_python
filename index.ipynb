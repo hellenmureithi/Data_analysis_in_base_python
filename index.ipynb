{
 "cells": [
  {
   "cell_type": "markdown",
   "id": "79cfde6d",
   "metadata": {},
   "source": [
    "# Data analysis in Base Python"
   ]
  },
  {
   "cell_type": "markdown",
   "id": "cec2c330",
   "metadata": {},
   "source": [
    "## \"In Memory\" vs. \"On Disk\"\n",
    "\n",
    "### Data in Memory\n",
    "We have mainly emphasized working with Python variables in memory. When something is in memory, that means that it can be easily modified and that it no longer exists once the software using it (in this case, a Python kernel) stops running."
   ]
  },
  {
   "cell_type": "code",
   "execution_count": null,
   "id": "891d0d77",
   "metadata": {},
   "outputs": [],
   "source": []
  },
  {
   "cell_type": "markdown",
   "id": "8a1958dc",
   "metadata": {},
   "source": [
    "check memory location"
   ]
  },
  {
   "cell_type": "code",
   "execution_count": 37,
   "id": "b4b43a54",
   "metadata": {},
   "outputs": [],
   "source": [
    "# check memory location\n"
   ]
  },
  {
   "cell_type": "markdown",
   "id": "956e4f5c",
   "metadata": {},
   "source": [
    "change value"
   ]
  },
  {
   "cell_type": "code",
   "execution_count": null,
   "id": "e438e2a3",
   "metadata": {},
   "outputs": [
    {
     "data": {
      "text/plain": [
       "'some new value'"
      ]
     },
     "execution_count": 38,
     "metadata": {},
     "output_type": "execute_result"
    }
   ],
   "source": [
    "# change value of x\n"
   ]
  },
  {
   "cell_type": "code",
   "execution_count": null,
   "id": "e696bbff",
   "metadata": {},
   "outputs": [],
   "source": []
  },
  {
   "cell_type": "code",
   "execution_count": null,
   "id": "b8151170",
   "metadata": {},
   "outputs": [],
   "source": []
  },
  {
   "cell_type": "code",
   "execution_count": 39,
   "id": "e2ab5363",
   "metadata": {},
   "outputs": [],
   "source": [
    "# check memory location\n"
   ]
  },
  {
   "cell_type": "markdown",
   "id": "f7657ff9",
   "metadata": {},
   "source": [
    "variables in memory are flexible and convenient, but they are inherently temporary and short-term"
   ]
  },
  {
   "cell_type": "markdown",
   "id": "21856a51",
   "metadata": {},
   "source": [
    "# Files on Disk"
   ]
  },
  {
   "cell_type": "code",
   "execution_count": null,
   "id": "0b05f006",
   "metadata": {},
   "outputs": [],
   "source": []
  },
  {
   "cell_type": "markdown",
   "id": "3036c19d",
   "metadata": {},
   "source": [
    "Interacting with files on disk with Python is somewhat more complex than interacting with Python variables in memory. It is a form of I/O — meaning \"input/output\" — which means that we need to incorporate the ideas of:\n",
    "\n",
    "- Opening and closing files\n",
    "- Reading from and writing to files\n",
    "- closing files\n",
    "\n",
    "In order to open a file with Python, you need to know the path to the file. By default this path is relative to the path you are running the Python code from."
   ]
  },
  {
   "cell_type": "code",
   "execution_count": 40,
   "id": "1cf63eb8",
   "metadata": {},
   "outputs": [],
   "source": [
    "# define file path\n"
   ]
  },
  {
   "cell_type": "markdown",
   "id": "c962ce7e",
   "metadata": {},
   "source": [
    "### Reading Files"
   ]
  },
  {
   "cell_type": "code",
   "execution_count": 41,
   "id": "66944d5f",
   "metadata": {},
   "outputs": [],
   "source": [
    "# load file\n"
   ]
  },
  {
   "cell_type": "markdown",
   "id": "f43d1da3",
   "metadata": {},
   "source": [
    "### Read all Contents"
   ]
  },
  {
   "cell_type": "code",
   "execution_count": 42,
   "id": "25d95f50",
   "metadata": {},
   "outputs": [],
   "source": [
    "# Read all Contents\n"
   ]
  },
  {
   "cell_type": "markdown",
   "id": "0c743bdd",
   "metadata": {},
   "source": [
    "### Read Single line"
   ]
  },
  {
   "cell_type": "code",
   "execution_count": 43,
   "id": "c72d0442",
   "metadata": {},
   "outputs": [],
   "source": [
    "# Read Single line\n"
   ]
  },
  {
   "cell_type": "code",
   "execution_count": 44,
   "id": "36184377",
   "metadata": {},
   "outputs": [],
   "source": [
    "# Read all lines\n"
   ]
  },
  {
   "cell_type": "markdown",
   "id": "b637f5b2",
   "metadata": {},
   "source": [
    "### closing a file"
   ]
  },
  {
   "cell_type": "code",
   "execution_count": null,
   "id": "a16bf535",
   "metadata": {},
   "outputs": [],
   "source": []
  },
  {
   "cell_type": "markdown",
   "id": "ca3d5626",
   "metadata": {},
   "source": [
    "### Shortened Syntax Using with"
   ]
  },
  {
   "cell_type": "markdown",
   "id": "c3cbb8ce",
   "metadata": {},
   "source": [
    "When you use with open to start a block, the file object will automatically close at the end of that block."
   ]
  },
  {
   "cell_type": "code",
   "execution_count": null,
   "id": "ec8d5e92",
   "metadata": {},
   "outputs": [],
   "source": []
  },
  {
   "cell_type": "markdown",
   "id": "25f3031b",
   "metadata": {},
   "source": [
    "### Writing to files"
   ]
  },
  {
   "cell_type": "code",
   "execution_count": null,
   "id": "4a95f8a8",
   "metadata": {},
   "outputs": [],
   "source": []
  },
  {
   "cell_type": "markdown",
   "id": "fe2db152",
   "metadata": {},
   "source": [
    "## Dealing with Different File Types"
   ]
  },
  {
   "cell_type": "markdown",
   "id": "aaa49403",
   "metadata": {},
   "source": [
    "For more-complex file types, we will often need to use additional modules or libraries."
   ]
  },
  {
   "cell_type": "markdown",
   "id": "8cd72f2d",
   "metadata": {},
   "source": [
    "### CSV"
   ]
  },
  {
   "cell_type": "code",
   "execution_count": 45,
   "id": "1eb6402c",
   "metadata": {},
   "outputs": [],
   "source": [
    "# Reaading csv data (tabular data)\n",
    "\n"
   ]
  },
  {
   "cell_type": "code",
   "execution_count": 46,
   "id": "f387b28a",
   "metadata": {},
   "outputs": [],
   "source": [
    "# using libraries\n",
    "\n",
    "    "
   ]
  },
  {
   "cell_type": "markdown",
   "id": "5ff6f7da",
   "metadata": {},
   "source": [
    "### Excel "
   ]
  },
  {
   "cell_type": "code",
   "execution_count": 47,
   "id": "119cdc19",
   "metadata": {},
   "outputs": [],
   "source": [
    "# Todo: read the excel file using xlrd library\n",
    "# and print all  its contents\n",
    "# file path: ./cities.xlsx"
   ]
  },
  {
   "cell_type": "markdown",
   "id": "3593aea7",
   "metadata": {},
   "source": [
    "### JSON\n",
    "JSON files are structured similarly to dictionaries, and can contain nested data. The json module allows you to load them into memory using Python data types (in this case, a dictionary)"
   ]
  },
  {
   "cell_type": "markdown",
   "id": "ae48512c",
   "metadata": {},
   "source": [
    "``` json\n",
    "{\n",
    "\t\"name\": \"Leia Organa\",\n",
    "\t\"height\": \"150\",\n",
    "\t\"mass\": \"49\",\n",
    "\t\"hair_color\": \"brown\",\n",
    "\t\"skin_color\": \"light\",\n",
    "\t\"eye_color\": \"brown\",\n",
    "\t\"birth_year\": \"19BBY\",\n",
    "\t\"gender\": \"female\",\n",
    "\t\"homeworld\": \"http://swapi.dev/api/planets/2/\",\n",
    "\t\"films\": [\n",
    "\t\t\"http://swapi.dev/api/films/1/\",\n",
    "\t\t\"http://swapi.dev/api/films/2/\",\n",
    "\t\t\"http://swapi.dev/api/films/3/\",\n",
    "\t\t\"http://swapi.dev/api/films/6/\"\n",
    "\t],\n",
    "\t\"species\": [],\n",
    "\t\"vehicles\": [\n",
    "\t\t\"http://swapi.dev/api/vehicles/30/\"\n",
    "\t],\n",
    "\t\"starships\": [],\n",
    "\t\"created\": \"2014-12-10T15:20:09.791000Z\",\n",
    "\t\"edited\": \"2014-12-20T21:17:50.315000Z\",\n",
    "\t\"url\": \"http://swapi.dev/api/people/5/\"\n",
    "}\n",
    "```"
   ]
  },
  {
   "cell_type": "code",
   "execution_count": 48,
   "id": "c514ff15",
   "metadata": {},
   "outputs": [],
   "source": [
    "# reading JSON files\n"
   ]
  },
  {
   "cell_type": "markdown",
   "id": "6cd49447",
   "metadata": {},
   "source": [
    "### XML"
   ]
  },
  {
   "cell_type": "code",
   "execution_count": 49,
   "id": "15802b59",
   "metadata": {},
   "outputs": [],
   "source": [
    "# Todo: read the excel file using xlrd library\n",
    "# and print all  its contents\n",
    "# file path: ./cities.xlsx"
   ]
  },
  {
   "cell_type": "markdown",
   "id": "4f92d274",
   "metadata": {},
   "source": [
    "### images"
   ]
  },
  {
   "cell_type": "code",
   "execution_count": 50,
   "id": "cde73c7c",
   "metadata": {},
   "outputs": [],
   "source": [
    "# reading images as binary files\n"
   ]
  },
  {
   "cell_type": "code",
   "execution_count": 51,
   "id": "3a99c963",
   "metadata": {},
   "outputs": [],
   "source": [
    "# reading with pillow\n",
    "\n"
   ]
  },
  {
   "cell_type": "markdown",
   "id": "860dfe9c",
   "metadata": {},
   "source": [
    "### Pickle "
   ]
  },
  {
   "cell_type": "code",
   "execution_count": 52,
   "id": "2f8b7b92",
   "metadata": {},
   "outputs": [],
   "source": [
    "# Todo: read the pickel file using pickle library\n",
    "# and print  its contents\n",
    "# file path: ./plot.pkl"
   ]
  },
  {
   "cell_type": "markdown",
   "id": "ec0785c1",
   "metadata": {},
   "source": []
  }
 ],
 "metadata": {
  "kernelspec": {
   "display_name": "Python 3 (ipykernel)",
   "language": "python",
   "name": "python3"
  },
  "language_info": {
   "codemirror_mode": {
    "name": "ipython",
    "version": 3
   },
   "file_extension": ".py",
   "mimetype": "text/x-python",
   "name": "python",
   "nbconvert_exporter": "python",
   "pygments_lexer": "ipython3",
   "version": "3.12.3"
  }
 },
 "nbformat": 4,
 "nbformat_minor": 5
}
