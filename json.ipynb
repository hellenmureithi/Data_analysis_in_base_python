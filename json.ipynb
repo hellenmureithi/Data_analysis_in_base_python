{
 "cells": [
  {
   "cell_type": "markdown",
   "id": "436e4e36",
   "metadata": {},
   "source": [
    "# JSON"
   ]
  },
  {
   "cell_type": "markdown",
   "id": "bc3b683c",
   "metadata": {},
   "source": [
    "## JSON Format"
   ]
  },
  {
   "cell_type": "markdown",
   "id": "94d26e9f",
   "metadata": {},
   "source": [
    "JSON stands for JavaScript Object Notation. Similar to CSV, JSON is a plain text data format. However the structure of JSON — based on the syntax of JavaScript — is more complex.\n",
    "\n",
    "JSON is not a tabular format with one set of rows and one set of columns. JSON files are often nested in a hierarchical structure and will have data structures analogous to Python dictionaries and lists"
   ]
  },
  {
   "cell_type": "code",
   "execution_count": 55,
   "id": "ab49b772",
   "metadata": {},
   "outputs": [],
   "source": [
    "# import json \n",
    "\n",
    "import json"
   ]
  },
  {
   "cell_type": "markdown",
   "id": "ca84f7ec",
   "metadata": {},
   "source": [
    "#### json.load\n",
    "To load data from a JSON file, you first open the file using Python's built-in open function. Then you pass the file object to the json.load function, which returns a Python object representing the contents of the file."
   ]
  },
  {
   "cell_type": "code",
   "execution_count": 56,
   "id": "6d8f4266",
   "metadata": {},
   "outputs": [
    {
     "name": "stdout",
     "output_type": "stream",
     "text": [
      "[\n",
      "{\n",
      "\t\"name\": \"Leia Organa\",\n",
      "\t\"height\": 150,\n",
      "\t\"mass\": \"49\",\n",
      "\t\"hair_color\": \"brown\",\n",
      "\t\"skin_color\": \"light\",\n",
      "\t\"eye_color\": \"brown\",\n",
      "\t\"birth_year\": \"19BBY\",\n",
      "\t\"gender\": \"female\",\n",
      "\t\"homeworld\": \"http://swapi.dev/api/planets/2/\",\n",
      "\t\"films\": [\n",
      "\t\t\"http://swapi.dev/api/films/1/\",\n",
      "\t\t\"http://swapi.dev/api/films/2/\",\n",
      "\t\t\"http://swapi.dev/api/films/3/\",\n",
      "\t\t\"http://swapi.dev/api/films/6/\"\n",
      "\t],\n",
      "\t\"species\": [],\n",
      "\t\"vehicles\": [\n",
      "\t\t\"http://swapi.dev/api/vehicles/30/\"\n",
      "\t],\n",
      "\t\"starships\": [],\n",
      "\t\"created\": \"2014-12-10T15:20:09.791000Z\",\n",
      "\t\"edited\": \"2014-12-20T21:17:50.315000Z\",\n",
      "\t\"url\": \"http://swapi.dev/api/people/5/\"\n",
      "},\n",
      "{\n",
      "\t\"name\": \"Samuel karu\",\n",
      "\t\"height\": 150,\n",
      "\t\"mass\": \"49\",\n",
      "\t\"hair_color\": \"brown\",\n",
      "\t\"skin_color\": \"light\",\n",
      "\t\"eye_color\": \"brown\",\n",
      "\t\"birth_year\": \"19BBY\",\n",
      "\t\"gender\": \"female\",\n",
      "\t\"homeworld\": \"http://swapi.dev/api/planets/2/\",\n",
      "\t\"films\": [\n",
      "\t\t\"http://swapi.dev/api/films/1/\",\n",
      "\t\t\"http://swapi.dev/api/films/2/\",\n",
      "\t\t\"http://swapi.dev/api/films/3/\",\n",
      "\t\t\"http://swapi.dev/api/films/6/\"\n",
      "\t],\n",
      "\t\"species\": [],\n",
      "\t\"vehicles\": [\n",
      "\t\t\"http://swapi.dev/api/vehicles/30/\"\n",
      "\t],\n",
      "\t\"starships\": [],\n",
      "\t\"created\": \"2014-12-10T15:20:09.791000Z\",\n",
      "\t\"edited\": \"2014-12-20T21:17:50.315000Z\",\n",
      "\t\"url\": \"http://swapi.dev/api/people/5/\"\n",
      "}\n",
      "\n",
      "]\n",
      "\n"
     ]
    }
   ],
   "source": [
    "# load data\n",
    "with open(\"leia.json\") as file:\n",
    "    data = file.read()\n",
    "    \n",
    "type(data)\n",
    "\n",
    "print(data)"
   ]
  },
  {
   "cell_type": "code",
   "execution_count": 57,
   "id": "b2889ef5",
   "metadata": {},
   "outputs": [
    {
     "data": {
      "text/plain": [
       "'[\\n{\\n\\t\"name\": \"Leia Organa\",\\n\\t\"height\": 1'"
      ]
     },
     "execution_count": 57,
     "metadata": {},
     "output_type": "execute_result"
    }
   ],
   "source": [
    "data[:40]"
   ]
  },
  {
   "cell_type": "code",
   "execution_count": 58,
   "id": "c0b1367c",
   "metadata": {},
   "outputs": [
    {
     "data": {
      "text/plain": [
       "list"
      ]
     },
     "execution_count": 58,
     "metadata": {},
     "output_type": "execute_result"
    }
   ],
   "source": [
    "# load data\n",
    "with open(\"leia.json\") as file:\n",
    "    data = json.load(file)\n",
    "    \n",
    "type(data)"
   ]
  },
  {
   "cell_type": "code",
   "execution_count": 59,
   "id": "a44df0f6",
   "metadata": {},
   "outputs": [
    {
     "data": {
      "text/plain": [
       "'Samuel karu'"
      ]
     },
     "execution_count": 59,
     "metadata": {},
     "output_type": "execute_result"
    }
   ],
   "source": [
    "data[1][\"name\"]"
   ]
  },
  {
   "cell_type": "code",
   "execution_count": 60,
   "id": "7db09361",
   "metadata": {},
   "outputs": [
    {
     "name": "stdout",
     "output_type": "stream",
     "text": [
      "[{'name': 'Leia Organa', 'height': 150, 'mass': '49', 'hair_color': 'brown', 'skin_color': 'light', 'eye_color': 'brown', 'birth_year': '19BBY', 'gender': 'female', 'homeworld': 'http://swapi.dev/api/planets/2/', 'films': ['http://swapi.dev/api/films/1/', 'http://swapi.dev/api/films/2/', 'http://swapi.dev/api/films/3/', 'http://swapi.dev/api/films/6/'], 'species': [], 'vehicles': ['http://swapi.dev/api/vehicles/30/'], 'starships': [], 'created': '2014-12-10T15:20:09.791000Z', 'edited': '2014-12-20T21:17:50.315000Z', 'url': 'http://swapi.dev/api/people/5/'}, {'name': 'Samuel karu', 'height': 150, 'mass': '49', 'hair_color': 'brown', 'skin_color': 'light', 'eye_color': 'brown', 'birth_year': '19BBY', 'gender': 'female', 'homeworld': 'http://swapi.dev/api/planets/2/', 'films': ['http://swapi.dev/api/films/1/', 'http://swapi.dev/api/films/2/', 'http://swapi.dev/api/films/3/', 'http://swapi.dev/api/films/6/'], 'species': [], 'vehicles': ['http://swapi.dev/api/vehicles/30/'], 'starships': [], 'created': '2014-12-10T15:20:09.791000Z', 'edited': '2014-12-20T21:17:50.315000Z', 'url': 'http://swapi.dev/api/people/5/'}]\n"
     ]
    }
   ],
   "source": [
    "print(data)"
   ]
  },
  {
   "cell_type": "markdown",
   "id": "776c13a3",
   "metadata": {},
   "source": [
    "### Parsing a JSON File"
   ]
  },
  {
   "cell_type": "code",
   "execution_count": 61,
   "id": "553e573e",
   "metadata": {},
   "outputs": [
    {
     "data": {
      "text/plain": [
       "dict_keys(['name', 'height', 'mass', 'hair_color', 'skin_color', 'eye_color', 'birth_year', 'gender', 'homeworld', 'films', 'species', 'vehicles', 'starships', 'created', 'edited', 'url'])"
      ]
     },
     "execution_count": 61,
     "metadata": {},
     "output_type": "execute_result"
    }
   ],
   "source": [
    "# show keys\n",
    "data[0].keys()"
   ]
  },
  {
   "cell_type": "markdown",
   "id": "7df0a838",
   "metadata": {},
   "source": [
    "getting the data "
   ]
  },
  {
   "cell_type": "code",
   "execution_count": 62,
   "id": "811c348d",
   "metadata": {},
   "outputs": [
    {
     "data": {
      "text/plain": [
       "['http://swapi.dev/api/films/1/', 'http://swapi.dev/api/films/2/']"
      ]
     },
     "execution_count": 62,
     "metadata": {},
     "output_type": "execute_result"
    }
   ],
   "source": [
    "# show data\n",
    "data[1][\"films\"][:2]\n"
   ]
  },
  {
   "cell_type": "markdown",
   "id": "ae841357",
   "metadata": {},
   "source": [
    "### api example "
   ]
  },
  {
   "cell_type": "code",
   "execution_count": 63,
   "id": "5114f536",
   "metadata": {},
   "outputs": [
    {
     "data": {
      "text/plain": [
       "'{\"categories\":[],\"created_at\":\"2020-01-05 13:42:24.142371\",\"icon_url\":\"https://api.chucknorris.io/img/avatar/chuck-norris.png\",\"id\":\"aBzqjH70SqKdRMAZtKZ2dQ\",\"updated_at\":\"2020-01-05 13:42:24.142371\",\"url\":\"https://api.chucknorris.io/jokes/aBzqjH70SqKdRMAZtKZ2dQ\",\"value\":\"Rhythm is a slave to the Chuck Norris\"}'"
      ]
     },
     "execution_count": 63,
     "metadata": {},
     "output_type": "execute_result"
    }
   ],
   "source": [
    "import requests as rq\n",
    "\n",
    "response = rq.get(\"https://api.chucknorris.io/jokes/random\")\n",
    "\n",
    "response_text = response.text\n",
    "response_text"
   ]
  },
  {
   "cell_type": "code",
   "execution_count": 64,
   "id": "b79e496b",
   "metadata": {},
   "outputs": [
    {
     "data": {
      "text/plain": [
       "{'categories': [],\n",
       " 'created_at': '2020-01-05 13:42:24.142371',\n",
       " 'icon_url': 'https://api.chucknorris.io/img/avatar/chuck-norris.png',\n",
       " 'id': 'aBzqjH70SqKdRMAZtKZ2dQ',\n",
       " 'updated_at': '2020-01-05 13:42:24.142371',\n",
       " 'url': 'https://api.chucknorris.io/jokes/aBzqjH70SqKdRMAZtKZ2dQ',\n",
       " 'value': 'Rhythm is a slave to the Chuck Norris'}"
      ]
     },
     "execution_count": 64,
     "metadata": {},
     "output_type": "execute_result"
    }
   ],
   "source": [
    "joke = json.loads(response_text)\n",
    "joke"
   ]
  },
  {
   "cell_type": "code",
   "execution_count": 65,
   "id": "fc65cc76",
   "metadata": {},
   "outputs": [
    {
     "data": {
      "text/plain": [
       "'Rhythm is a slave to the Chuck Norris'"
      ]
     },
     "execution_count": 65,
     "metadata": {},
     "output_type": "execute_result"
    }
   ],
   "source": [
    "joke[\"value\"]"
   ]
  }
 ],
 "metadata": {
  "kernelspec": {
   "display_name": "Python 3 (ipykernel)",
   "language": "python",
   "name": "python3"
  },
  "language_info": {
   "codemirror_mode": {
    "name": "ipython",
    "version": 3
   },
   "file_extension": ".py",
   "mimetype": "text/x-python",
   "name": "python",
   "nbconvert_exporter": "python",
   "pygments_lexer": "ipython3",
   "version": "3.12.3"
  }
 },
 "nbformat": 4,
 "nbformat_minor": 5
}
