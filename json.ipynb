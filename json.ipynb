{
 "cells": [
  {
   "cell_type": "markdown",
   "id": "436e4e36",
   "metadata": {},
   "source": [
    "# JSON"
   ]
  },
  {
   "cell_type": "markdown",
   "id": "bc3b683c",
   "metadata": {},
   "source": [
    "## JSON Format"
   ]
  },
  {
   "cell_type": "markdown",
   "id": "94d26e9f",
   "metadata": {},
   "source": [
    "JSON stands for JavaScript Object Notation. Similar to CSV, JSON is a plain text data format. However the structure of JSON — based on the syntax of JavaScript — is more complex.\n",
    "\n",
    "JSON is not a tabular format with one set of rows and one set of columns. JSON files are often nested in a hierarchical structure and will have data structures analogous to Python dictionaries and lists"
   ]
  },
  {
   "cell_type": "code",
   "execution_count": 8,
   "id": "ab49b772",
   "metadata": {},
   "outputs": [],
   "source": [
    "# import json \n"
   ]
  },
  {
   "cell_type": "markdown",
   "id": "ca84f7ec",
   "metadata": {},
   "source": [
    "#### json.load\n",
    "To load data from a JSON file, you first open the file using Python's built-in open function. Then you pass the file object to the json.load function, which returns a Python object representing the contents of the file."
   ]
  },
  {
   "cell_type": "code",
   "execution_count": 9,
   "id": "c0b1367c",
   "metadata": {},
   "outputs": [],
   "source": [
    "# load data\n"
   ]
  },
  {
   "cell_type": "markdown",
   "id": "776c13a3",
   "metadata": {},
   "source": [
    "### Parsing a JSON File"
   ]
  },
  {
   "cell_type": "code",
   "execution_count": 10,
   "id": "553e573e",
   "metadata": {},
   "outputs": [],
   "source": [
    "# show keys\n"
   ]
  },
  {
   "cell_type": "markdown",
   "id": "7df0a838",
   "metadata": {},
   "source": [
    "getting the data "
   ]
  },
  {
   "cell_type": "code",
   "execution_count": 11,
   "id": "811c348d",
   "metadata": {},
   "outputs": [],
   "source": [
    "# show data\n"
   ]
  },
  {
   "cell_type": "markdown",
   "id": "ae841357",
   "metadata": {},
   "source": [
    "### api example "
   ]
  }
 ],
 "metadata": {
  "kernelspec": {
   "display_name": "Python 3 (ipykernel)",
   "language": "python",
   "name": "python3"
  },
  "language_info": {
   "codemirror_mode": {
    "name": "ipython",
    "version": 3
   },
   "file_extension": ".py",
   "mimetype": "text/x-python",
   "name": "python",
   "nbconvert_exporter": "python",
   "pygments_lexer": "ipython3",
   "version": "3.12.3"
  }
 },
 "nbformat": 4,
 "nbformat_minor": 5
}
